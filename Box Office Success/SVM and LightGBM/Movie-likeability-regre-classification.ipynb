{
 "cells": [
  {
   "cell_type": "markdown",
   "metadata": {},
   "source": [
    "# This notebook do the regression task using SVM and lightGBM models  \n",
    "Authored by Wen Xie"
   ]
  },
  {
   "cell_type": "code",
   "execution_count": 1,
   "metadata": {},
   "outputs": [],
   "source": [
    "import numpy as np\n",
    "import pandas as pd\n",
    "import lightgbm as lgb\n",
    "\n",
    "from sklearn.model_selection import train_test_split\n",
    "from sklearn import preprocessing\n",
    "\n",
    "from sklearn.metrics import mean_squared_error as mse"
   ]
  },
  {
   "cell_type": "code",
   "execution_count": 2,
   "metadata": {},
   "outputs": [],
   "source": [
    "mdata = pd.read_csv('mdata_im.csv')"
   ]
  },
  {
   "cell_type": "code",
   "execution_count": 3,
   "metadata": {},
   "outputs": [],
   "source": [
    "def lgbmodel(params,X_train,lgb_train,lgb_val,early_stop):\n",
    "    evals_result = {}  # to record eval results for plotting\n",
    "    gbm = lgb.train(params,\n",
    "                    train_set = lgb_train,\n",
    "                    num_boost_round=2000,\n",
    "                    valid_sets = [lgb_train,lgb_val],\n",
    "                    feature_name=['f' + str(i + 1) for i in range(X_train.shape[-1])],\n",
    "                    early_stopping_rounds = early_stop,\n",
    "                    evals_result=evals_result,\n",
    "                    verbose_eval=20)\n",
    "    return gbm, evals_result"
   ]
  },
  {
   "cell_type": "markdown",
   "metadata": {},
   "source": [
    "## Metadata"
   ]
  },
  {
   "cell_type": "code",
   "execution_count": 4,
   "metadata": {},
   "outputs": [],
   "source": [
    "from sklearn.preprocessing import OneHotEncoder\n",
    "from sklearn.svm import SVR"
   ]
  },
  {
   "cell_type": "code",
   "execution_count": 5,
   "metadata": {},
   "outputs": [],
   "source": [
    "enc = OneHotEncoder(handle_unknown='ignore')"
   ]
  },
  {
   "cell_type": "code",
   "execution_count": 7,
   "metadata": {},
   "outputs": [
    {
     "name": "stdout",
     "output_type": "stream",
     "text": [
      "X train shape:  (9724, 102)\n",
      "y train shape:  (9724,)\n",
      "X test shape:  (3039, 102)\n",
      "y test shape:  (3039,)\n",
      "X val shape:  (2432, 102)\n",
      "y val shape:  (2432,)\n"
     ]
    }
   ],
   "source": [
    "X_YR = enc.fit_transform([[i] for i in mdata['Year']]).toarray()\n",
    "y_YR = mdata['imdbRating']  #S:1,F:0\n",
    "X_train_YR, X_test_YR, y_train_YR, y_test_YR = train_test_split(X_YR, y_YR, test_size=0.2, random_state=42)\n",
    "X_train_YR, X_val_YR, y_train_YR, y_val_YR = train_test_split(X_train_YR, y_train_YR, test_size=0.2, random_state=42)\n",
    "print('X train shape: ', X_train_YR.shape)\n",
    "print('y train shape: ', y_train_YR.shape)\n",
    "print('X test shape: ', X_test_YR.shape)\n",
    "print('y test shape: ', y_test_YR.shape)\n",
    "print('X val shape: ', X_val_YR.shape)\n",
    "print('y val shape: ', y_val_YR.shape)"
   ]
  },
  {
   "cell_type": "code",
   "execution_count": 8,
   "metadata": {},
   "outputs": [],
   "source": [
    "lgb_train_YR = lgb.Dataset(X_train_YR, y_train_YR,free_raw_data=True)\n",
    "lgb_val_YR = lgb.Dataset(X_val_YR, y_val_YR, reference=lgb_train_YR,free_raw_data=True)"
   ]
  },
  {
   "cell_type": "code",
   "execution_count": 9,
   "metadata": {
    "scrolled": true
   },
   "outputs": [
    {
     "name": "stdout",
     "output_type": "stream",
     "text": [
      "Training until validation scores don't improve for 20 rounds\n",
      "[20]\ttraining's l2: 1.40936\tvalid_1's l2: 1.38431\n",
      "[40]\ttraining's l2: 1.39781\tvalid_1's l2: 1.37702\n",
      "[60]\ttraining's l2: 1.38915\tvalid_1's l2: 1.37189\n",
      "[80]\ttraining's l2: 1.38248\tvalid_1's l2: 1.36827\n",
      "[100]\ttraining's l2: 1.37696\tvalid_1's l2: 1.36503\n",
      "[120]\ttraining's l2: 1.37203\tvalid_1's l2: 1.36185\n",
      "[140]\ttraining's l2: 1.36754\tvalid_1's l2: 1.3591\n",
      "[160]\ttraining's l2: 1.36349\tvalid_1's l2: 1.35641\n",
      "[180]\ttraining's l2: 1.35973\tvalid_1's l2: 1.3537\n",
      "[200]\ttraining's l2: 1.35624\tvalid_1's l2: 1.35131\n",
      "[220]\ttraining's l2: 1.35292\tvalid_1's l2: 1.34897\n",
      "[240]\ttraining's l2: 1.34981\tvalid_1's l2: 1.34687\n",
      "[260]\ttraining's l2: 1.3469\tvalid_1's l2: 1.34485\n",
      "[280]\ttraining's l2: 1.34415\tvalid_1's l2: 1.34301\n",
      "[300]\ttraining's l2: 1.34157\tvalid_1's l2: 1.34125\n",
      "[320]\ttraining's l2: 1.33911\tvalid_1's l2: 1.33959\n",
      "[340]\ttraining's l2: 1.33677\tvalid_1's l2: 1.33797\n",
      "[360]\ttraining's l2: 1.3345\tvalid_1's l2: 1.33651\n",
      "[380]\ttraining's l2: 1.33237\tvalid_1's l2: 1.33509\n",
      "[400]\ttraining's l2: 1.33034\tvalid_1's l2: 1.33374\n",
      "[420]\ttraining's l2: 1.32838\tvalid_1's l2: 1.33246\n",
      "[440]\ttraining's l2: 1.32649\tvalid_1's l2: 1.33125\n",
      "[460]\ttraining's l2: 1.32471\tvalid_1's l2: 1.33019\n",
      "[480]\ttraining's l2: 1.323\tvalid_1's l2: 1.32903\n",
      "[500]\ttraining's l2: 1.32134\tvalid_1's l2: 1.32803\n",
      "[520]\ttraining's l2: 1.31975\tvalid_1's l2: 1.32706\n",
      "[540]\ttraining's l2: 1.31824\tvalid_1's l2: 1.32602\n",
      "[560]\ttraining's l2: 1.31678\tvalid_1's l2: 1.32509\n",
      "[580]\ttraining's l2: 1.31538\tvalid_1's l2: 1.32429\n",
      "[600]\ttraining's l2: 1.31404\tvalid_1's l2: 1.3234\n",
      "[620]\ttraining's l2: 1.31273\tvalid_1's l2: 1.32264\n",
      "[640]\ttraining's l2: 1.31148\tvalid_1's l2: 1.32184\n",
      "[660]\ttraining's l2: 1.31026\tvalid_1's l2: 1.32109\n",
      "[680]\ttraining's l2: 1.3091\tvalid_1's l2: 1.32036\n",
      "[700]\ttraining's l2: 1.30798\tvalid_1's l2: 1.31961\n",
      "[720]\ttraining's l2: 1.3069\tvalid_1's l2: 1.31895\n",
      "[740]\ttraining's l2: 1.30587\tvalid_1's l2: 1.31828\n",
      "[760]\ttraining's l2: 1.30486\tvalid_1's l2: 1.31763\n",
      "[780]\ttraining's l2: 1.30389\tvalid_1's l2: 1.31701\n",
      "[800]\ttraining's l2: 1.30296\tvalid_1's l2: 1.31642\n",
      "[820]\ttraining's l2: 1.30205\tvalid_1's l2: 1.31589\n",
      "[840]\ttraining's l2: 1.30118\tvalid_1's l2: 1.31536\n",
      "[860]\ttraining's l2: 1.30034\tvalid_1's l2: 1.31483\n",
      "[880]\ttraining's l2: 1.29951\tvalid_1's l2: 1.31443\n",
      "[900]\ttraining's l2: 1.29873\tvalid_1's l2: 1.31395\n",
      "[920]\ttraining's l2: 1.29797\tvalid_1's l2: 1.31348\n",
      "[940]\ttraining's l2: 1.29722\tvalid_1's l2: 1.3131\n",
      "[960]\ttraining's l2: 1.29651\tvalid_1's l2: 1.31265\n",
      "[980]\ttraining's l2: 1.29581\tvalid_1's l2: 1.31232\n",
      "[1000]\ttraining's l2: 1.29514\tvalid_1's l2: 1.3119\n",
      "[1020]\ttraining's l2: 1.29448\tvalid_1's l2: 1.31158\n",
      "[1040]\ttraining's l2: 1.29384\tvalid_1's l2: 1.31126\n",
      "[1060]\ttraining's l2: 1.29321\tvalid_1's l2: 1.31096\n",
      "[1080]\ttraining's l2: 1.29261\tvalid_1's l2: 1.31065\n",
      "[1100]\ttraining's l2: 1.29203\tvalid_1's l2: 1.31039\n",
      "[1120]\ttraining's l2: 1.29146\tvalid_1's l2: 1.31008\n",
      "[1140]\ttraining's l2: 1.2909\tvalid_1's l2: 1.3098\n",
      "[1160]\ttraining's l2: 1.29037\tvalid_1's l2: 1.30955\n",
      "[1180]\ttraining's l2: 1.28984\tvalid_1's l2: 1.30933\n",
      "[1200]\ttraining's l2: 1.28934\tvalid_1's l2: 1.30905\n",
      "[1220]\ttraining's l2: 1.28885\tvalid_1's l2: 1.30882\n",
      "[1240]\ttraining's l2: 1.28836\tvalid_1's l2: 1.30861\n",
      "[1260]\ttraining's l2: 1.2879\tvalid_1's l2: 1.30835\n",
      "[1280]\ttraining's l2: 1.28744\tvalid_1's l2: 1.30816\n",
      "[1300]\ttraining's l2: 1.28701\tvalid_1's l2: 1.30792\n",
      "[1320]\ttraining's l2: 1.28658\tvalid_1's l2: 1.30768\n",
      "[1340]\ttraining's l2: 1.28616\tvalid_1's l2: 1.30749\n",
      "[1360]\ttraining's l2: 1.28576\tvalid_1's l2: 1.30726\n",
      "[1380]\ttraining's l2: 1.28536\tvalid_1's l2: 1.30709\n",
      "[1400]\ttraining's l2: 1.28497\tvalid_1's l2: 1.30694\n",
      "[1420]\ttraining's l2: 1.2846\tvalid_1's l2: 1.30674\n",
      "[1440]\ttraining's l2: 1.28424\tvalid_1's l2: 1.3066\n",
      "[1460]\ttraining's l2: 1.28388\tvalid_1's l2: 1.30639\n",
      "[1480]\ttraining's l2: 1.28354\tvalid_1's l2: 1.30625\n",
      "[1500]\ttraining's l2: 1.2832\tvalid_1's l2: 1.30608\n",
      "[1520]\ttraining's l2: 1.28287\tvalid_1's l2: 1.30593\n",
      "[1540]\ttraining's l2: 1.28256\tvalid_1's l2: 1.3058\n",
      "[1560]\ttraining's l2: 1.28225\tvalid_1's l2: 1.30565\n",
      "[1580]\ttraining's l2: 1.28194\tvalid_1's l2: 1.30551\n",
      "[1600]\ttraining's l2: 1.28164\tvalid_1's l2: 1.3054\n",
      "[1620]\ttraining's l2: 1.28136\tvalid_1's l2: 1.30525\n",
      "[1640]\ttraining's l2: 1.28108\tvalid_1's l2: 1.30513\n",
      "[1660]\ttraining's l2: 1.2808\tvalid_1's l2: 1.30503\n",
      "[1680]\ttraining's l2: 1.28054\tvalid_1's l2: 1.30488\n",
      "[1700]\ttraining's l2: 1.28027\tvalid_1's l2: 1.3048\n",
      "[1720]\ttraining's l2: 1.28002\tvalid_1's l2: 1.3047\n",
      "[1740]\ttraining's l2: 1.27977\tvalid_1's l2: 1.30462\n",
      "[1760]\ttraining's l2: 1.27954\tvalid_1's l2: 1.30452\n",
      "[1780]\ttraining's l2: 1.2793\tvalid_1's l2: 1.30443\n",
      "[1800]\ttraining's l2: 1.27907\tvalid_1's l2: 1.30434\n",
      "[1820]\ttraining's l2: 1.27885\tvalid_1's l2: 1.30424\n",
      "[1840]\ttraining's l2: 1.27863\tvalid_1's l2: 1.30415\n",
      "[1860]\ttraining's l2: 1.27842\tvalid_1's l2: 1.30409\n",
      "[1880]\ttraining's l2: 1.27821\tvalid_1's l2: 1.30402\n",
      "[1900]\ttraining's l2: 1.27801\tvalid_1's l2: 1.30396\n",
      "[1920]\ttraining's l2: 1.27781\tvalid_1's l2: 1.30386\n",
      "[1940]\ttraining's l2: 1.27762\tvalid_1's l2: 1.30385\n",
      "[1960]\ttraining's l2: 1.27743\tvalid_1's l2: 1.3038\n",
      "[1980]\ttraining's l2: 1.27725\tvalid_1's l2: 1.30374\n",
      "[2000]\ttraining's l2: 1.27707\tvalid_1's l2: 1.3037\n",
      "Did not meet early stopping. Best iteration is:\n",
      "[2000]\ttraining's l2: 1.27707\tvalid_1's l2: 1.3037\n"
     ]
    }
   ],
   "source": [
    "#params = {'num_leaves': 5,'metric': ['cross_entropy'],'verbose': -1}\n",
    "params = {'boosting_type': 'gbdt',\n",
    "          'objective': 'regression',\n",
    "          'metric':'mse',\n",
    "          'num_leaves': 5,\n",
    "          'learning_rate':0.01,\n",
    "          'verbose': -1}\n",
    "gbm_YR,_ = lgbmodel(params=params,X_train=X_train_YR,lgb_train=lgb_train_YR,lgb_val=lgb_val_YR,early_stop=20)"
   ]
  },
  {
   "cell_type": "code",
   "execution_count": 11,
   "metadata": {},
   "outputs": [
    {
     "data": {
      "text/plain": [
       "1.2917909440884647"
      ]
     },
     "execution_count": 11,
     "metadata": {},
     "output_type": "execute_result"
    }
   ],
   "source": [
    "y_pred = gbm_YR.predict(X_test_YR)\n",
    "mse(y_pred,y_test_YR)"
   ]
  },
  {
   "cell_type": "markdown",
   "metadata": {},
   "source": [
    "### svm"
   ]
  },
  {
   "cell_type": "code",
   "execution_count": 10,
   "metadata": {},
   "outputs": [
    {
     "data": {
      "text/plain": [
       "SVR(C=1.0, cache_size=200, coef0=0.0, degree=3, epsilon=0.1, gamma='scale',\n",
       "    kernel='rbf', max_iter=-1, shrinking=True, tol=0.001, verbose=False)"
      ]
     },
     "execution_count": 10,
     "metadata": {},
     "output_type": "execute_result"
    }
   ],
   "source": [
    "svm_YR = SVR(gamma='scale')\n",
    "svm_YR.fit(np.r_[X_train_YR,X_val_YR],np.r_[y_train_YR,y_val_YR])"
   ]
  },
  {
   "cell_type": "code",
   "execution_count": 12,
   "metadata": {},
   "outputs": [
    {
     "data": {
      "text/plain": [
       "1.298637693439808"
      ]
     },
     "execution_count": 12,
     "metadata": {},
     "output_type": "execute_result"
    }
   ],
   "source": [
    "y_pred = svm_YR.predict(X_test_YR)\n",
    "mse(y_pred,y_test_YR)"
   ]
  },
  {
   "cell_type": "markdown",
   "metadata": {},
   "source": [
    "### runtime"
   ]
  },
  {
   "cell_type": "code",
   "execution_count": 13,
   "metadata": {},
   "outputs": [],
   "source": [
    "import re"
   ]
  },
  {
   "cell_type": "code",
   "execution_count": 14,
   "metadata": {},
   "outputs": [],
   "source": [
    "mdata['Runtime'].fillna('0 missing',inplace=True)\n",
    "mdata['Runtime']=mdata['Runtime'].apply(lambda x: ''.join(re.findall('\\d',x)))\n",
    "mdata['Runtime'].fillna(mdata['Runtime'].mean(),inplace=True)"
   ]
  },
  {
   "cell_type": "code",
   "execution_count": 15,
   "metadata": {},
   "outputs": [
    {
     "name": "stdout",
     "output_type": "stream",
     "text": [
      "X train shape:  (9724, 222)\n",
      "y train shape:  (9724,)\n",
      "X test shape:  (3039, 222)\n",
      "y test shape:  (3039,)\n",
      "X val shape:  (2432, 222)\n",
      "y val shape:  (2432,)\n"
     ]
    }
   ],
   "source": [
    "X_RT = enc.fit_transform([[i] for i in mdata['Runtime']]).toarray()\n",
    "y_RT = mdata['imdbRating']  #S:1,F:0\n",
    "X_train_RT, X_test_RT, y_train_RT, y_test_RT= train_test_split(X_RT, y_RT, test_size=0.2, random_state=42)\n",
    "X_train_RT, X_val_RT, y_train_RT, y_val_RT = train_test_split(X_train_RT, y_train_RT, test_size=0.2, random_state=42)\n",
    "print('X train shape: ', X_train_RT.shape)\n",
    "print('y train shape: ', y_train_RT.shape)\n",
    "print('X test shape: ', X_test_RT.shape)\n",
    "print('y test shape: ', y_test_RT.shape)\n",
    "print('X val shape: ', X_val_RT.shape)\n",
    "print('y val shape: ', y_val_RT.shape)"
   ]
  },
  {
   "cell_type": "code",
   "execution_count": 17,
   "metadata": {
    "scrolled": true
   },
   "outputs": [
    {
     "name": "stdout",
     "output_type": "stream",
     "text": [
      "Training until validation scores don't improve for 20 rounds\n",
      "[20]\ttraining's l2: 1.41105\tvalid_1's l2: 1.3808\n",
      "[40]\ttraining's l2: 1.40033\tvalid_1's l2: 1.37154\n",
      "[60]\ttraining's l2: 1.39165\tvalid_1's l2: 1.36399\n",
      "[80]\ttraining's l2: 1.38424\tvalid_1's l2: 1.35744\n",
      "[100]\ttraining's l2: 1.37762\tvalid_1's l2: 1.35141\n",
      "[120]\ttraining's l2: 1.37167\tvalid_1's l2: 1.34594\n",
      "[140]\ttraining's l2: 1.36631\tvalid_1's l2: 1.34107\n",
      "[160]\ttraining's l2: 1.36144\tvalid_1's l2: 1.33666\n",
      "[180]\ttraining's l2: 1.35696\tvalid_1's l2: 1.33243\n",
      "[200]\ttraining's l2: 1.35281\tvalid_1's l2: 1.32842\n",
      "[220]\ttraining's l2: 1.34896\tvalid_1's l2: 1.32466\n",
      "[240]\ttraining's l2: 1.34535\tvalid_1's l2: 1.32122\n",
      "[260]\ttraining's l2: 1.34197\tvalid_1's l2: 1.31777\n",
      "[280]\ttraining's l2: 1.33881\tvalid_1's l2: 1.31479\n",
      "[300]\ttraining's l2: 1.33583\tvalid_1's l2: 1.31186\n",
      "[320]\ttraining's l2: 1.33301\tvalid_1's l2: 1.30873\n",
      "[340]\ttraining's l2: 1.33034\tvalid_1's l2: 1.30608\n",
      "[360]\ttraining's l2: 1.32782\tvalid_1's l2: 1.30346\n",
      "[380]\ttraining's l2: 1.32542\tvalid_1's l2: 1.30105\n",
      "[400]\ttraining's l2: 1.32313\tvalid_1's l2: 1.29864\n",
      "[420]\ttraining's l2: 1.32095\tvalid_1's l2: 1.29629\n",
      "[440]\ttraining's l2: 1.31888\tvalid_1's l2: 1.29414\n",
      "[460]\ttraining's l2: 1.3169\tvalid_1's l2: 1.29206\n",
      "[480]\ttraining's l2: 1.31502\tvalid_1's l2: 1.29013\n",
      "[500]\ttraining's l2: 1.31322\tvalid_1's l2: 1.28815\n",
      "[520]\ttraining's l2: 1.31151\tvalid_1's l2: 1.28641\n",
      "[540]\ttraining's l2: 1.30987\tvalid_1's l2: 1.28484\n",
      "[560]\ttraining's l2: 1.30829\tvalid_1's l2: 1.28317\n",
      "[580]\ttraining's l2: 1.30679\tvalid_1's l2: 1.28163\n",
      "[600]\ttraining's l2: 1.30534\tvalid_1's l2: 1.28015\n",
      "[620]\ttraining's l2: 1.30394\tvalid_1's l2: 1.27864\n",
      "[640]\ttraining's l2: 1.30259\tvalid_1's l2: 1.27725\n",
      "[660]\ttraining's l2: 1.30128\tvalid_1's l2: 1.27581\n",
      "[680]\ttraining's l2: 1.30003\tvalid_1's l2: 1.27449\n",
      "[700]\ttraining's l2: 1.29881\tvalid_1's l2: 1.27319\n",
      "[720]\ttraining's l2: 1.29764\tvalid_1's l2: 1.27196\n",
      "[740]\ttraining's l2: 1.29651\tvalid_1's l2: 1.27075\n",
      "[760]\ttraining's l2: 1.29541\tvalid_1's l2: 1.2696\n",
      "[780]\ttraining's l2: 1.29434\tvalid_1's l2: 1.26846\n",
      "[800]\ttraining's l2: 1.29332\tvalid_1's l2: 1.26742\n",
      "[820]\ttraining's l2: 1.29232\tvalid_1's l2: 1.26638\n",
      "[840]\ttraining's l2: 1.29136\tvalid_1's l2: 1.26541\n",
      "[860]\ttraining's l2: 1.29044\tvalid_1's l2: 1.26453\n",
      "[880]\ttraining's l2: 1.28953\tvalid_1's l2: 1.26367\n",
      "[900]\ttraining's l2: 1.28866\tvalid_1's l2: 1.26284\n",
      "[920]\ttraining's l2: 1.28781\tvalid_1's l2: 1.26194\n",
      "[940]\ttraining's l2: 1.28699\tvalid_1's l2: 1.26112\n",
      "[960]\ttraining's l2: 1.28619\tvalid_1's l2: 1.26021\n",
      "[980]\ttraining's l2: 1.28541\tvalid_1's l2: 1.25936\n",
      "[1000]\ttraining's l2: 1.28466\tvalid_1's l2: 1.25861\n",
      "[1020]\ttraining's l2: 1.28392\tvalid_1's l2: 1.25779\n",
      "[1040]\ttraining's l2: 1.28321\tvalid_1's l2: 1.257\n",
      "[1060]\ttraining's l2: 1.28251\tvalid_1's l2: 1.25625\n",
      "[1080]\ttraining's l2: 1.28184\tvalid_1's l2: 1.25555\n",
      "[1100]\ttraining's l2: 1.28118\tvalid_1's l2: 1.25485\n",
      "[1120]\ttraining's l2: 1.28054\tvalid_1's l2: 1.25414\n",
      "[1140]\ttraining's l2: 1.27992\tvalid_1's l2: 1.25343\n",
      "[1160]\ttraining's l2: 1.27931\tvalid_1's l2: 1.25284\n",
      "[1180]\ttraining's l2: 1.27872\tvalid_1's l2: 1.25223\n",
      "[1200]\ttraining's l2: 1.27815\tvalid_1's l2: 1.25159\n",
      "[1220]\ttraining's l2: 1.27759\tvalid_1's l2: 1.25097\n",
      "[1240]\ttraining's l2: 1.27704\tvalid_1's l2: 1.25039\n",
      "[1260]\ttraining's l2: 1.27651\tvalid_1's l2: 1.24981\n",
      "[1280]\ttraining's l2: 1.27599\tvalid_1's l2: 1.24923\n",
      "[1300]\ttraining's l2: 1.27548\tvalid_1's l2: 1.24872\n",
      "[1320]\ttraining's l2: 1.27499\tvalid_1's l2: 1.24824\n",
      "[1340]\ttraining's l2: 1.27451\tvalid_1's l2: 1.24772\n",
      "[1360]\ttraining's l2: 1.27403\tvalid_1's l2: 1.24719\n",
      "[1380]\ttraining's l2: 1.27357\tvalid_1's l2: 1.24671\n",
      "[1400]\ttraining's l2: 1.27312\tvalid_1's l2: 1.24625\n",
      "[1420]\ttraining's l2: 1.27268\tvalid_1's l2: 1.24583\n",
      "[1440]\ttraining's l2: 1.27225\tvalid_1's l2: 1.24538\n",
      "[1460]\ttraining's l2: 1.27183\tvalid_1's l2: 1.24496\n",
      "[1480]\ttraining's l2: 1.27142\tvalid_1's l2: 1.24452\n",
      "[1500]\ttraining's l2: 1.27102\tvalid_1's l2: 1.24412\n",
      "[1520]\ttraining's l2: 1.27062\tvalid_1's l2: 1.24373\n",
      "[1540]\ttraining's l2: 1.27024\tvalid_1's l2: 1.24331\n",
      "[1560]\ttraining's l2: 1.26986\tvalid_1's l2: 1.24296\n",
      "[1580]\ttraining's l2: 1.26949\tvalid_1's l2: 1.24253\n",
      "[1600]\ttraining's l2: 1.26913\tvalid_1's l2: 1.24218\n",
      "[1620]\ttraining's l2: 1.26878\tvalid_1's l2: 1.24184\n",
      "[1640]\ttraining's l2: 1.26843\tvalid_1's l2: 1.24145\n",
      "[1660]\ttraining's l2: 1.2681\tvalid_1's l2: 1.24112\n",
      "[1680]\ttraining's l2: 1.26777\tvalid_1's l2: 1.2408\n",
      "[1700]\ttraining's l2: 1.26744\tvalid_1's l2: 1.24046\n",
      "[1720]\ttraining's l2: 1.26713\tvalid_1's l2: 1.24009\n",
      "[1740]\ttraining's l2: 1.26682\tvalid_1's l2: 1.23982\n",
      "[1760]\ttraining's l2: 1.26651\tvalid_1's l2: 1.23948\n",
      "[1780]\ttraining's l2: 1.26621\tvalid_1's l2: 1.23921\n",
      "[1800]\ttraining's l2: 1.26592\tvalid_1's l2: 1.23887\n",
      "[1820]\ttraining's l2: 1.26563\tvalid_1's l2: 1.23861\n",
      "[1840]\ttraining's l2: 1.26535\tvalid_1's l2: 1.23833\n",
      "[1860]\ttraining's l2: 1.26508\tvalid_1's l2: 1.23803\n",
      "[1880]\ttraining's l2: 1.26481\tvalid_1's l2: 1.23777\n",
      "[1900]\ttraining's l2: 1.26454\tvalid_1's l2: 1.2375\n",
      "[1920]\ttraining's l2: 1.26428\tvalid_1's l2: 1.23725\n",
      "[1940]\ttraining's l2: 1.26403\tvalid_1's l2: 1.23697\n",
      "[1960]\ttraining's l2: 1.26378\tvalid_1's l2: 1.23671\n",
      "[1980]\ttraining's l2: 1.26353\tvalid_1's l2: 1.23649\n",
      "[2000]\ttraining's l2: 1.26329\tvalid_1's l2: 1.23625\n",
      "Did not meet early stopping. Best iteration is:\n",
      "[2000]\ttraining's l2: 1.26329\tvalid_1's l2: 1.23625\n"
     ]
    }
   ],
   "source": [
    "lgb_train_RT = lgb.Dataset(X_train_RT, y_train_RT,free_raw_data=True)\n",
    "lgb_val_RT = lgb.Dataset(X_val_RT, y_val_RT, reference=lgb_train_RT,free_raw_data=True)\n",
    "params = {'boosting_type': 'gbdt',\n",
    "          'objective': 'regression',\n",
    "          'metric':'mse',\n",
    "          'num_leaves': 5,\n",
    "          'learning_rate':0.01,\n",
    "          'verbose': -1}\n",
    "gbm_RT,_ = lgbmodel(params=params,X_train=X_train_RT,lgb_train=lgb_train_RT,lgb_val=lgb_val_RT,early_stop=20)"
   ]
  },
  {
   "cell_type": "code",
   "execution_count": 18,
   "metadata": {},
   "outputs": [
    {
     "data": {
      "text/plain": [
       "1.2900013926216074"
      ]
     },
     "execution_count": 18,
     "metadata": {},
     "output_type": "execute_result"
    }
   ],
   "source": [
    "y_pred = gbm_RT.predict(X_test_RT)\n",
    "mse(y_pred,y_test_RT)"
   ]
  },
  {
   "cell_type": "markdown",
   "metadata": {},
   "source": [
    "### svm"
   ]
  },
  {
   "cell_type": "code",
   "execution_count": 21,
   "metadata": {},
   "outputs": [
    {
     "data": {
      "text/plain": [
       "SVR(C=1.0, cache_size=200, coef0=0.0, degree=3, epsilon=0.1, gamma='scale',\n",
       "    kernel='rbf', max_iter=-1, shrinking=True, tol=0.001, verbose=False)"
      ]
     },
     "execution_count": 21,
     "metadata": {},
     "output_type": "execute_result"
    }
   ],
   "source": [
    "svm_RT = SVR(gamma='scale')\n",
    "svm_RT.fit(np.r_[X_train_RT,X_val_RT],np.r_[y_train_RT,y_val_RT])"
   ]
  },
  {
   "cell_type": "code",
   "execution_count": 23,
   "metadata": {},
   "outputs": [
    {
     "data": {
      "text/plain": [
       "1.3066676538078021"
      ]
     },
     "execution_count": 23,
     "metadata": {},
     "output_type": "execute_result"
    }
   ],
   "source": [
    "y_pred = svm_RT.predict(X_test_RT)\n",
    "mse(y_pred,y_test_RT)"
   ]
  },
  {
   "cell_type": "markdown",
   "metadata": {},
   "source": [
    "### Genre"
   ]
  },
  {
   "cell_type": "code",
   "execution_count": null,
   "metadata": {},
   "outputs": [],
   "source": [
    "mdata['Genre'].fillna('missing',inplace=True)\n",
    "X_GE = enc.fit_transform([[i] for i in mdata['Genre']]).toarray()\n",
    "y_GE = mdata['imdbRating']  #S:1,F:0\n",
    "X_train_GE, X_test_GE, y_train_GE, y_test_GE= train_test_split(X_GE, y_GE, test_size=0.2, random_state=42)\n",
    "X_train_GE, X_val_GE, y_train_GE, y_val_GE = train_test_split(X_train_GE, y_train_GE, test_size=0.2, random_state=42)\n",
    "print('X train shape: ', X_train_GE.shape)\n",
    "print('y train shape: ', y_train_GE.shape)\n",
    "print('X test shape: ', X_test_GE.shape)\n",
    "print('y test shape: ', y_test_GE.shape)\n",
    "print('X val shape: ', X_val_GE.shape)\n",
    "print('y val shape: ', y_val_GE.shape)\n",
    "\n",
    "lgb_train_GE = lgb.Dataset(X_train_GE, y_train_GE,free_raw_data=True)\n",
    "lgb_val_GE = lgb.Dataset(X_val_GE, y_val_GE, reference=lgb_train_GE,free_raw_data=True)\n",
    "\n",
    "params = {'boosting_type': 'gbdt',\n",
    "          'objective': 'regression',\n",
    "          'metric':'mse',\n",
    "          'num_leaves': 5,\n",
    "          'learning_rate':0.01,\n",
    "          'verbose': -1}\n",
    "\n",
    "gbm_GE,_ = lgbmodel(params=params,X_train=X_train_GE,lgb_train=lgb_train_GE,lgb_val=lgb_val_GE,early_stop=20)"
   ]
  },
  {
   "cell_type": "code",
   "execution_count": null,
   "metadata": {},
   "outputs": [],
   "source": [
    "y_pred = gbm_GE.predict(X_test_GE)\n",
    "mse(y_pred,y_test_GE)"
   ]
  },
  {
   "cell_type": "markdown",
   "metadata": {},
   "source": [
    "### svm"
   ]
  },
  {
   "cell_type": "code",
   "execution_count": null,
   "metadata": {},
   "outputs": [],
   "source": [
    "svm_GE = SVR(gamma='scale')\n",
    "svm_GE.fit(np.r_[X_train_GE,X_val_GE],np.r_[y_train_GE,y_val_GE])\n",
    "y_pred = svm_GE.predict(X_test_GE)\n",
    "mse(y_pred,y_test_GE)"
   ]
  },
  {
   "cell_type": "markdown",
   "metadata": {},
   "source": [
    "# 1, NRC-word emotion"
   ]
  },
  {
   "cell_type": "code",
   "execution_count": 28,
   "metadata": {},
   "outputs": [],
   "source": [
    "emolex = pd.read_csv('fea_emolex.csv')\n",
    "train_NRC = pd.merge(emolex,mdata,how='right',left_on='ID',right_on='imdbID')"
   ]
  },
  {
   "cell_type": "code",
   "execution_count": 5,
   "metadata": {},
   "outputs": [
    {
     "name": "stdout",
     "output_type": "stream",
     "text": [
      "X train shape:  (9724, 50)\n",
      "y train shape:  (9724,)\n",
      "X test shape:  (3039, 50)\n",
      "y test shape:  (3039,)\n",
      "X val shape:  (2432, 50)\n",
      "y val shape:  (2432,)\n"
     ]
    }
   ],
   "source": [
    "X_NRC = train_NRC.iloc[:,2:52]\n",
    "y_NRC = train_NRC['imdbRating'] #S:1,F:0\n",
    "X_train_NRC, X_test_NRC, y_train_NRC, y_test_NRC = train_test_split(X_NRC, y_NRC, test_size=0.2, random_state=42)\n",
    "X_train_NRC, X_val_NRC, y_train_NRC, y_val_NRC = train_test_split(X_train_NRC, y_train_NRC, test_size=0.2, random_state=42)\n",
    "print('X train shape: ', X_train_NRC.shape)\n",
    "print('y train shape: ', y_train_NRC.shape)\n",
    "print('X test shape: ', X_test_NRC.shape)\n",
    "print('y test shape: ', y_test_NRC.shape)\n",
    "print('X val shape: ', X_val_NRC.shape)\n",
    "print('y val shape: ', y_val_NRC.shape)"
   ]
  },
  {
   "cell_type": "markdown",
   "metadata": {},
   "source": [
    "### Create Dataset object for LightGBM"
   ]
  },
  {
   "cell_type": "code",
   "execution_count": 6,
   "metadata": {},
   "outputs": [],
   "source": [
    "lgb_train_NRC = lgb.Dataset(X_train_NRC, y_train_NRC,free_raw_data=True)\n",
    "lgb_val_NRC = lgb.Dataset(X_val_NRC, y_val_NRC, reference=lgb_train_NRC,free_raw_data=True)"
   ]
  },
  {
   "cell_type": "code",
   "execution_count": 90,
   "metadata": {},
   "outputs": [],
   "source": [
    "#params = {'num_leaves': 5,'metric': ['cross_entropy'],'verbose': -1}\n",
    "params = {'boosting_type': 'gbdt',\n",
    "          'objective': 'regression',\n",
    "          'metric':'mse',\n",
    "          'num_leaves': 5,\n",
    "          'learning_rate':0.01,\n",
    "          'verbose': -1}"
   ]
  },
  {
   "cell_type": "code",
   "execution_count": 91,
   "metadata": {
    "scrolled": true
   },
   "outputs": [
    {
     "name": "stdout",
     "output_type": "stream",
     "text": [
      "Training until validation scores don't improve for 20 rounds\n",
      "[20]\ttraining's l2: 1.38273\tvalid_1's l2: 1.33173\n",
      "[40]\ttraining's l2: 1.36078\tvalid_1's l2: 1.31476\n",
      "[60]\ttraining's l2: 1.34465\tvalid_1's l2: 1.30332\n",
      "[80]\ttraining's l2: 1.33206\tvalid_1's l2: 1.29546\n",
      "[100]\ttraining's l2: 1.32212\tvalid_1's l2: 1.28954\n",
      "[120]\ttraining's l2: 1.31388\tvalid_1's l2: 1.28508\n",
      "[140]\ttraining's l2: 1.30699\tvalid_1's l2: 1.28158\n",
      "[160]\ttraining's l2: 1.30112\tvalid_1's l2: 1.27838\n",
      "[180]\ttraining's l2: 1.29586\tvalid_1's l2: 1.27594\n",
      "[200]\ttraining's l2: 1.2912\tvalid_1's l2: 1.27382\n",
      "[220]\ttraining's l2: 1.2869\tvalid_1's l2: 1.27233\n",
      "[240]\ttraining's l2: 1.28305\tvalid_1's l2: 1.27098\n",
      "[260]\ttraining's l2: 1.27932\tvalid_1's l2: 1.26999\n",
      "[280]\ttraining's l2: 1.27558\tvalid_1's l2: 1.26862\n",
      "[300]\ttraining's l2: 1.27192\tvalid_1's l2: 1.26772\n",
      "[320]\ttraining's l2: 1.26849\tvalid_1's l2: 1.26682\n",
      "[340]\ttraining's l2: 1.26518\tvalid_1's l2: 1.2661\n",
      "[360]\ttraining's l2: 1.26207\tvalid_1's l2: 1.2654\n",
      "[380]\ttraining's l2: 1.25908\tvalid_1's l2: 1.26466\n",
      "[400]\ttraining's l2: 1.2562\tvalid_1's l2: 1.26395\n",
      "[420]\ttraining's l2: 1.2534\tvalid_1's l2: 1.26299\n",
      "[440]\ttraining's l2: 1.25077\tvalid_1's l2: 1.26213\n",
      "[460]\ttraining's l2: 1.2483\tvalid_1's l2: 1.26157\n",
      "[480]\ttraining's l2: 1.24586\tvalid_1's l2: 1.26099\n",
      "[500]\ttraining's l2: 1.24345\tvalid_1's l2: 1.26025\n",
      "[520]\ttraining's l2: 1.24105\tvalid_1's l2: 1.25956\n",
      "[540]\ttraining's l2: 1.23874\tvalid_1's l2: 1.25896\n",
      "[560]\ttraining's l2: 1.23649\tvalid_1's l2: 1.25847\n",
      "[580]\ttraining's l2: 1.23425\tvalid_1's l2: 1.25801\n",
      "[600]\ttraining's l2: 1.23203\tvalid_1's l2: 1.25742\n",
      "[620]\ttraining's l2: 1.22982\tvalid_1's l2: 1.25699\n",
      "[640]\ttraining's l2: 1.22773\tvalid_1's l2: 1.25661\n",
      "[660]\ttraining's l2: 1.22562\tvalid_1's l2: 1.25637\n",
      "[680]\ttraining's l2: 1.22362\tvalid_1's l2: 1.25595\n",
      "[700]\ttraining's l2: 1.2217\tvalid_1's l2: 1.25587\n",
      "[720]\ttraining's l2: 1.21973\tvalid_1's l2: 1.2557\n",
      "[740]\ttraining's l2: 1.21787\tvalid_1's l2: 1.25531\n",
      "[760]\ttraining's l2: 1.21588\tvalid_1's l2: 1.25489\n",
      "[780]\ttraining's l2: 1.214\tvalid_1's l2: 1.2546\n",
      "[800]\ttraining's l2: 1.21219\tvalid_1's l2: 1.25428\n",
      "[820]\ttraining's l2: 1.21035\tvalid_1's l2: 1.25406\n",
      "[840]\ttraining's l2: 1.20849\tvalid_1's l2: 1.25395\n",
      "[860]\ttraining's l2: 1.20669\tvalid_1's l2: 1.25365\n",
      "[880]\ttraining's l2: 1.20489\tvalid_1's l2: 1.25348\n",
      "[900]\ttraining's l2: 1.20318\tvalid_1's l2: 1.25325\n",
      "[920]\ttraining's l2: 1.20146\tvalid_1's l2: 1.25319\n",
      "Early stopping, best iteration is:\n",
      "[915]\ttraining's l2: 1.20188\tvalid_1's l2: 1.25309\n"
     ]
    }
   ],
   "source": [
    "gbm_NRC,_ = lgbmodel(params=params,X_train=X_train_NRC,lgb_train=lgb_train_NRC,lgb_val=lgb_val_NRC,early_stop=20)"
   ]
  },
  {
   "cell_type": "markdown",
   "metadata": {},
   "source": [
    "### Prediction"
   ]
  },
  {
   "cell_type": "code",
   "execution_count": 92,
   "metadata": {},
   "outputs": [
    {
     "data": {
      "text/plain": [
       "1.375723708403093"
      ]
     },
     "execution_count": 92,
     "metadata": {},
     "output_type": "execute_result"
    }
   ],
   "source": [
    "y_pred = gbm_NRC.predict(X_test_NRC)\n",
    "mse(y_pred,y_test_NRC)"
   ]
  },
  {
   "cell_type": "code",
   "execution_count": 93,
   "metadata": {},
   "outputs": [
    {
     "data": {
      "text/plain": [
       "array([6.36356543, 5.90290245, 5.88992951, 6.77997673, 6.79348803,\n",
       "       6.74950619, 6.38960489, 6.51117542, 6.28656417, 6.36763265])"
      ]
     },
     "execution_count": 93,
     "metadata": {},
     "output_type": "execute_result"
    }
   ],
   "source": [
    "y_pred[0:10]"
   ]
  },
  {
   "cell_type": "markdown",
   "metadata": {},
   "source": [
    "### SVM"
   ]
  },
  {
   "cell_type": "code",
   "execution_count": null,
   "metadata": {},
   "outputs": [],
   "source": [
    "from sklearn.svm import SVR"
   ]
  },
  {
   "cell_type": "code",
   "execution_count": 74,
   "metadata": {},
   "outputs": [
    {
     "data": {
      "text/plain": [
       "SVR(C=1.0, cache_size=200, coef0=0.0, degree=3, epsilon=0.1, gamma='scale',\n",
       "    kernel='rbf', max_iter=-1, shrinking=True, tol=0.001, verbose=False)"
      ]
     },
     "execution_count": 74,
     "metadata": {},
     "output_type": "execute_result"
    }
   ],
   "source": [
    "svm_NRC = SVR(gamma='scale')\n",
    "svm_NRC.fit(np.r_[X_train_NRC,X_val_NRC],np.r_[y_train_NRC,y_val_NRC])"
   ]
  },
  {
   "cell_type": "code",
   "execution_count": 75,
   "metadata": {},
   "outputs": [
    {
     "data": {
      "text/plain": [
       "1.3828222562790087"
      ]
     },
     "execution_count": 75,
     "metadata": {},
     "output_type": "execute_result"
    }
   ],
   "source": [
    "y_pred = svm_NRC.predict(X_test_NRC)\n",
    "mse(y_pred,y_test_NRC)"
   ]
  },
  {
   "cell_type": "code",
   "execution_count": 78,
   "metadata": {},
   "outputs": [
    {
     "data": {
      "text/plain": [
       "array([6.02230913, 6.36170911, 6.03539783, 7.03310448, 6.72120041,\n",
       "       6.97329876, 6.45819268, 6.90620396, 6.36621494, 6.51767049])"
      ]
     },
     "execution_count": 78,
     "metadata": {},
     "output_type": "execute_result"
    }
   ],
   "source": [
    "y_pred[0:10] "
   ]
  },
  {
   "cell_type": "code",
   "execution_count": 58,
   "metadata": {},
   "outputs": [
    {
     "data": {
      "text/plain": [
       "8953     5.8\n",
       "8060     4.9\n",
       "11721    7.5\n",
       "14609    7.6\n",
       "5049     6.4\n",
       "7163     6.3\n",
       "5729     4.6\n",
       "8845     8.3\n",
       "13455    4.6\n",
       "4010     6.4\n",
       "Name: imdbRating, dtype: float64"
      ]
     },
     "execution_count": 58,
     "metadata": {},
     "output_type": "execute_result"
    }
   ],
   "source": [
    "y_test_NRC[0:10]"
   ]
  },
  {
   "cell_type": "markdown",
   "metadata": {},
   "source": [
    "# 2, Poster saliency"
   ]
  },
  {
   "cell_type": "code",
   "execution_count": 29,
   "metadata": {},
   "outputs": [],
   "source": [
    "from PIL import Image\n",
    "import matplotlib.pyplot as plt"
   ]
  },
  {
   "cell_type": "code",
   "execution_count": 30,
   "metadata": {},
   "outputs": [],
   "source": [
    "X_POS = []\n",
    "for i in mdata['imdbID'].values:\n",
    "    im = np.array(Image.open('../imsaliency/'+i+'.jpg'))\n",
    "    X_POS.append(im)\n",
    "\n",
    "#reshape\n",
    "X_POS = np.array(X_POS).reshape(len(mdata),-1)"
   ]
  },
  {
   "cell_type": "code",
   "execution_count": 16,
   "metadata": {},
   "outputs": [
    {
     "data": {
      "image/png": "[encoded data removed]",
      "text/plain": [
       "<Figure size 432x288 with 1 Axes>"
      ]
     },
     "metadata": {
      "needs_background": "light"
     },
     "output_type": "display_data"
    }
   ],
   "source": [
    "plt.imshow(X_POS[0].reshape(40,30,3))\n",
    "plt.show()"
   ]
  },
  {
   "cell_type": "code",
   "execution_count": null,
   "metadata": {},
   "outputs": [],
   "source": [
    "'''\n",
    "from sklearn.manifold import TSNE\n",
    "from sklearn.decomposition import PCA\n",
    "X_POS_em = PCA(n_components=1000).fit_transform(X_POS)\n",
    "'''"
   ]
  },
  {
   "cell_type": "code",
   "execution_count": 17,
   "metadata": {},
   "outputs": [
    {
     "name": "stdout",
     "output_type": "stream",
     "text": [
      "X train shape:  (9724, 3600)\n",
      "y train shape:  (9724,)\n",
      "X test shape:  (3039, 3600)\n",
      "y test shape:  (3039,)\n",
      "X val shape:  (2432, 3600)\n",
      "y val shape:  (2432,)\n"
     ]
    }
   ],
   "source": [
    "y_POS = mdata['imdbRating']  #S:1,F:0\n",
    "X_train_POS, X_test_POS, y_train_POS, y_test_POS = train_test_split(X_POS, y_POS, test_size=0.2, random_state=42)\n",
    "X_train_POS, X_val_POS, y_train_POS, y_val_POS = train_test_split(X_train_POS, y_train_POS, test_size=0.2, random_state=42)\n",
    "print('X train shape: ', X_train_POS.shape)\n",
    "print('y train shape: ', y_train_POS.shape)\n",
    "print('X test shape: ', X_test_POS.shape)\n",
    "print('y test shape: ', y_test_POS.shape)\n",
    "print('X val shape: ', X_val_POS.shape)\n",
    "print('y val shape: ', y_val_POS.shape)"
   ]
  },
  {
   "cell_type": "code",
   "execution_count": 18,
   "metadata": {},
   "outputs": [],
   "source": [
    "lgb_train_POS = lgb.Dataset(X_train_POS, y_train_POS)\n",
    "lgb_val_POS = lgb.Dataset(X_val_POS, y_val_POS, reference=lgb_train_POS)"
   ]
  },
  {
   "cell_type": "code",
   "execution_count": 19,
   "metadata": {},
   "outputs": [],
   "source": [
    "#params = {'num_leaves': 5,'metric': ['cross_entropy'],'verbose': -1}\n",
    "params = {'boosting_type': 'gbdt',\n",
    "          'objective': 'regression',\n",
    "          'metric':'mse',\n",
    "          'num_leaves': 10,\n",
    "          'learning_rate':0.1,\n",
    "          'verbose': -1}"
   ]
  },
  {
   "cell_type": "code",
   "execution_count": 20,
   "metadata": {},
   "outputs": [
    {
     "name": "stdout",
     "output_type": "stream",
     "text": [
      "Training until validation scores don't improve for 20 rounds\n",
      "[20]\ttraining's l2: 1.29788\tvalid_1's l2: 1.37391\n",
      "Early stopping, best iteration is:\n",
      "[12]\ttraining's l2: 1.33848\tvalid_1's l2: 1.37185\n"
     ]
    }
   ],
   "source": [
    "gbm_POS,_ = lgbmodel(params=params,X_train=X_train_POS,lgb_train=lgb_train_POS,lgb_val=lgb_val_POS,early_stop=20)"
   ]
  },
  {
   "cell_type": "markdown",
   "metadata": {},
   "source": [
    "### prediction"
   ]
  },
  {
   "cell_type": "code",
   "execution_count": 27,
   "metadata": {},
   "outputs": [
    {
     "data": {
      "text/plain": [
       "1.3956752720737398"
      ]
     },
     "execution_count": 27,
     "metadata": {},
     "output_type": "execute_result"
    }
   ],
   "source": [
    "y_pred = gbm_POS.predict(X_test_POS)\n",
    "mse(y_pred,y_test_POS)"
   ]
  },
  {
   "cell_type": "markdown",
   "metadata": {},
   "source": [
    "### SVM"
   ]
  },
  {
   "cell_type": "code",
   "execution_count": 94,
   "metadata": {},
   "outputs": [
    {
     "data": {
      "text/plain": [
       "SVR(C=1.0, cache_size=200, coef0=0.0, degree=3, epsilon=0.1, gamma='scale',\n",
       "    kernel='rbf', max_iter=-1, shrinking=True, tol=0.001, verbose=False)"
      ]
     },
     "execution_count": 94,
     "metadata": {},
     "output_type": "execute_result"
    }
   ],
   "source": [
    "svm_POS = SVR(gamma='scale')\n",
    "svm_POS.fit(np.r_[X_train_POS,X_val_POS],np.r_[y_train_POS,y_val_POS])"
   ]
  },
  {
   "cell_type": "code",
   "execution_count": 95,
   "metadata": {},
   "outputs": [
    {
     "data": {
      "text/plain": [
       "1.4200270960895982"
      ]
     },
     "execution_count": 95,
     "metadata": {},
     "output_type": "execute_result"
    }
   ],
   "source": [
    "y_pred = svm_POS.predict(X_test_POS)\n",
    "mse(y_pred,y_test_POS)"
   ]
  },
  {
   "cell_type": "code",
   "execution_count": 96,
   "metadata": {},
   "outputs": [
    {
     "data": {
      "text/plain": [
       "array([6.29274937, 6.35823482, 6.54456084, 6.19548886, 6.14773271,\n",
       "       6.36763877, 6.32742937, 6.02236875, 6.21844059, 6.43026993])"
      ]
     },
     "execution_count": 96,
     "metadata": {},
     "output_type": "execute_result"
    }
   ],
   "source": [
    "y_pred[0:10]"
   ]
  },
  {
   "cell_type": "code",
   "execution_count": 97,
   "metadata": {},
   "outputs": [
    {
     "data": {
      "text/plain": [
       "8953     7.7\n",
       "8060     5.7\n",
       "11721    4.0\n",
       "14609    5.3\n",
       "5049     7.0\n",
       "7163     6.4\n",
       "5729     6.6\n",
       "8845     7.2\n",
       "13455    3.7\n",
       "4010     4.7\n",
       "Name: imdbRating, dtype: float64"
      ]
     },
     "execution_count": 97,
     "metadata": {},
     "output_type": "execute_result"
    }
   ],
   "source": [
    "y_test_POS[0:10]"
   ]
  },
  {
   "cell_type": "markdown",
   "metadata": {},
   "source": [
    "# 3, Bert sentence embedding"
   ]
  },
  {
   "cell_type": "code",
   "execution_count": 31,
   "metadata": {},
   "outputs": [],
   "source": [
    "sents_em = np.loadtxt('bert-sents-em15195_200.txt')"
   ]
  },
  {
   "cell_type": "code",
   "execution_count": 29,
   "metadata": {},
   "outputs": [
    {
     "name": "stdout",
     "output_type": "stream",
     "text": [
      "X train shape:  (9724, 200)\n",
      "y train shape:  (9724,)\n",
      "X test shape:  (3039, 200)\n",
      "y test shape:  (3039,)\n",
      "X val shape:  (2432, 200)\n",
      "y val shape:  (2432,)\n"
     ]
    }
   ],
   "source": [
    "y_SEM = mdata['imdbRating']  #S:1,F:0\n",
    "X_train_SEM, X_test_SEM, y_train_SEM, y_test_SEM = train_test_split(sents_em, y_SEM, test_size=0.2, random_state=42)\n",
    "X_train_SEM, X_val_SEM, y_train_SEM, y_val_SEM = train_test_split(X_train_SEM, y_train_SEM, test_size=0.2, random_state=42)\n",
    "print('X train shape: ', X_train_SEM.shape)\n",
    "print('y train shape: ', y_train_SEM.shape)\n",
    "print('X test shape: ', X_test_SEM.shape)\n",
    "print('y test shape: ', y_test_SEM.shape)\n",
    "print('X val shape: ', X_val_SEM.shape)\n",
    "print('y val shape: ', y_val_SEM.shape)"
   ]
  },
  {
   "cell_type": "code",
   "execution_count": 30,
   "metadata": {},
   "outputs": [],
   "source": [
    "lgb_train_SEM = lgb.Dataset(X_train_SEM, y_train_SEM,free_raw_data=False)\n",
    "lgb_val_SEM = lgb.Dataset(X_val_SEM, y_val_SEM, reference=lgb_train_SEM,free_raw_data=False)"
   ]
  },
  {
   "cell_type": "code",
   "execution_count": 31,
   "metadata": {},
   "outputs": [],
   "source": [
    "#params = {'num_leaves': 5,'metric': ['cross_entropy'],'verbose': -1}\n",
    "params = {'boosting_type': 'gbdt',\n",
    "          'objective': 'regression',\n",
    "          'metric':'mse',\n",
    "          'num_leaves': 10,\n",
    "          'learning_rate':0.1,\n",
    "          'verbose': -1}"
   ]
  },
  {
   "cell_type": "code",
   "execution_count": 32,
   "metadata": {},
   "outputs": [
    {
     "name": "stdout",
     "output_type": "stream",
     "text": [
      "Training until validation scores don't improve for 20 rounds\n",
      "[20]\ttraining's l2: 1.31364\tvalid_1's l2: 1.35878\n",
      "[40]\ttraining's l2: 1.23137\tvalid_1's l2: 1.34258\n",
      "[60]\ttraining's l2: 1.16506\tvalid_1's l2: 1.33369\n",
      "[80]\ttraining's l2: 1.10409\tvalid_1's l2: 1.33471\n",
      "[100]\ttraining's l2: 1.05192\tvalid_1's l2: 1.33328\n",
      "[120]\ttraining's l2: 1.00327\tvalid_1's l2: 1.33128\n",
      "[140]\ttraining's l2: 0.958004\tvalid_1's l2: 1.33083\n",
      "Early stopping, best iteration is:\n",
      "[129]\ttraining's l2: 0.981614\tvalid_1's l2: 1.3285\n"
     ]
    }
   ],
   "source": [
    "gbm_SEM,_ = lgbmodel(params=params,X_train=X_train_SEM,lgb_train=lgb_train_SEM,lgb_val=lgb_val_SEM,early_stop=20)"
   ]
  },
  {
   "cell_type": "markdown",
   "metadata": {},
   "source": [
    "### prediction"
   ]
  },
  {
   "cell_type": "code",
   "execution_count": 34,
   "metadata": {},
   "outputs": [
    {
     "data": {
      "text/plain": [
       "1.3513945427209193"
      ]
     },
     "execution_count": 34,
     "metadata": {},
     "output_type": "execute_result"
    }
   ],
   "source": [
    "y_pred = gbm_SEM.predict(X_test_SEM)\n",
    "mse(y_pred,y_test_SEM)"
   ]
  },
  {
   "cell_type": "markdown",
   "metadata": {},
   "source": [
    "### SVM"
   ]
  },
  {
   "cell_type": "code",
   "execution_count": 98,
   "metadata": {},
   "outputs": [],
   "source": [
    "svm_SEM = SVR(gamma='scale')"
   ]
  },
  {
   "cell_type": "code",
   "execution_count": 99,
   "metadata": {},
   "outputs": [
    {
     "data": {
      "text/plain": [
       "SVR(C=1.0, cache_size=200, coef0=0.0, degree=3, epsilon=0.1, gamma='scale',\n",
       "    kernel='rbf', max_iter=-1, shrinking=True, tol=0.001, verbose=False)"
      ]
     },
     "execution_count": 99,
     "metadata": {},
     "output_type": "execute_result"
    }
   ],
   "source": [
    "svm_SEM.fit(np.r_[X_train_SEM,X_val_SEM],np.r_[y_train_SEM,y_val_SEM])"
   ]
  },
  {
   "cell_type": "code",
   "execution_count": 100,
   "metadata": {},
   "outputs": [
    {
     "data": {
      "text/plain": [
       "1.3466201083682945"
      ]
     },
     "execution_count": 100,
     "metadata": {},
     "output_type": "execute_result"
    }
   ],
   "source": [
    "y_pred = svm_SEM.predict(X_test_SEM)\n",
    "mse(y_pred,y_test_SEM)"
   ]
  },
  {
   "cell_type": "markdown",
   "metadata": {},
   "source": [
    "## 4, Writing style"
   ]
  },
  {
   "cell_type": "code",
   "execution_count": 32,
   "metadata": {},
   "outputs": [],
   "source": [
    "ws = pd.read_csv('fea_writing.csv')"
   ]
  },
  {
   "cell_type": "code",
   "execution_count": 33,
   "metadata": {},
   "outputs": [],
   "source": [
    "train_ws = pd.merge(ws,mdata,how='right',left_on='imdbID',right_on='imdbID')"
   ]
  },
  {
   "cell_type": "code",
   "execution_count": 41,
   "metadata": {},
   "outputs": [
    {
     "name": "stdout",
     "output_type": "stream",
     "text": [
      "X train shape:  (9724, 10)\n",
      "y train shape:  (9724,)\n",
      "X test shape:  (3039, 10)\n",
      "y test shape:  (3039,)\n",
      "X val shape:  (2432, 10)\n",
      "y val shape:  (2432,)\n"
     ]
    }
   ],
   "source": [
    "X_WS = train_ws.iloc[:,0:10]\n",
    "y_WS  = train_ws['imdbRating']  #S:1,F:0\n",
    "X_train_WS , X_test_WS , y_train_WS , y_test_WS  = train_test_split(X_WS , y_WS , test_size=0.2, random_state=42)\n",
    "X_train_WS , X_val_WS , y_train_WS , y_val_WS  = train_test_split(X_train_WS , y_train_WS , test_size=0.2, random_state=42)\n",
    "print('X train shape: ', X_train_WS.shape)\n",
    "print('y train shape: ', y_train_WS.shape)\n",
    "print('X test shape: ', X_test_WS.shape)\n",
    "print('y test shape: ', y_test_WS.shape)\n",
    "print('X val shape: ', X_val_WS.shape)\n",
    "print('y val shape: ', y_val_WS.shape)"
   ]
  },
  {
   "cell_type": "code",
   "execution_count": 42,
   "metadata": {},
   "outputs": [],
   "source": [
    "lgb_train_WS = lgb.Dataset(X_train_WS, y_train_WS,free_raw_data=True)\n",
    "lgb_val_WS= lgb.Dataset(X_val_WS, y_val_WS, reference=lgb_train_WS,free_raw_data=True)"
   ]
  },
  {
   "cell_type": "code",
   "execution_count": 43,
   "metadata": {},
   "outputs": [],
   "source": [
    "#params = {'num_leaves': 5,'metric': ['cross_entropy'],'verbose': -1}\n",
    "params = {'boosting_type': 'gbdt',\n",
    "          'objective': 'regression',\n",
    "          'metric':'mse',\n",
    "          'num_leaves': 10,\n",
    "          'learning_rate':0.1,\n",
    "          'verbose': -1}"
   ]
  },
  {
   "cell_type": "code",
   "execution_count": 44,
   "metadata": {},
   "outputs": [
    {
     "name": "stdout",
     "output_type": "stream",
     "text": [
      "Training until validation scores don't improve for 20 rounds\n",
      "[20]\ttraining's l2: 1.39159\tvalid_1's l2: 1.40292\n",
      "Early stopping, best iteration is:\n",
      "[1]\ttraining's l2: 1.42305\tvalid_1's l2: 1.3959\n"
     ]
    }
   ],
   "source": [
    "gbm_WS,_ = lgbmodel(params=params,X_train=X_train_WS,lgb_train=lgb_train_WS,lgb_val=lgb_val_WS,early_stop=20)"
   ]
  },
  {
   "cell_type": "markdown",
   "metadata": {},
   "source": [
    "### prediction"
   ]
  },
  {
   "cell_type": "code",
   "execution_count": 45,
   "metadata": {},
   "outputs": [
    {
     "data": {
      "text/plain": [
       "1.4191492601908142"
      ]
     },
     "execution_count": 45,
     "metadata": {},
     "output_type": "execute_result"
    }
   ],
   "source": [
    "y_pred = gbm_WS.predict(X_test_WS) \n",
    "mse(y_pred,y_test_WS)"
   ]
  },
  {
   "cell_type": "markdown",
   "metadata": {},
   "source": [
    "### svm"
   ]
  },
  {
   "cell_type": "code",
   "execution_count": 101,
   "metadata": {},
   "outputs": [],
   "source": [
    "svm_WS = SVR(gamma='scale')"
   ]
  },
  {
   "cell_type": "code",
   "execution_count": 102,
   "metadata": {},
   "outputs": [
    {
     "data": {
      "text/plain": [
       "SVR(C=1.0, cache_size=200, coef0=0.0, degree=3, epsilon=0.1, gamma='scale',\n",
       "    kernel='rbf', max_iter=-1, shrinking=True, tol=0.001, verbose=False)"
      ]
     },
     "execution_count": 102,
     "metadata": {},
     "output_type": "execute_result"
    }
   ],
   "source": [
    "svm_WS.fit(np.r_[X_train_WS,X_val_WS],np.r_[y_train_WS,y_val_WS])"
   ]
  },
  {
   "cell_type": "code",
   "execution_count": 103,
   "metadata": {},
   "outputs": [
    {
     "data": {
      "text/plain": [
       "1.4456755391036071"
      ]
     },
     "execution_count": 103,
     "metadata": {},
     "output_type": "execute_result"
    }
   ],
   "source": [
    "y_pred = svm_WS.predict(X_test_WS)\n",
    "mse(y_pred,y_test_WS)"
   ]
  },
  {
   "cell_type": "code",
   "execution_count": 104,
   "metadata": {},
   "outputs": [
    {
     "data": {
      "text/plain": [
       "array([6.38132181, 6.35349785, 6.38633667, 6.38961999])"
      ]
     },
     "execution_count": 104,
     "metadata": {},
     "output_type": "execute_result"
    }
   ],
   "source": [
    "y_pred[0:4]"
   ]
  },
  {
   "cell_type": "markdown",
   "metadata": {},
   "source": [
    "## All feature together"
   ]
  },
  {
   "cell_type": "code",
   "execution_count": 34,
   "metadata": {},
   "outputs": [],
   "source": [
    "X = np.c_[train_NRC.iloc[:,2:52],X_POS,sents_em,train_ws.iloc[:,0:10],X_YR,X_RT]"
   ]
  },
  {
   "cell_type": "code",
   "execution_count": 35,
   "metadata": {},
   "outputs": [
    {
     "name": "stdout",
     "output_type": "stream",
     "text": [
      "X train shape:  (9724, 4184)\n",
      "y train shape:  (9724,)\n",
      "X test shape:  (3039, 4184)\n",
      "y test shape:  (3039,)\n",
      "X val shape:  (2432, 4184)\n",
      "y val shape:  (2432,)\n"
     ]
    }
   ],
   "source": [
    "y  = mdata['imdbRating']  #S:1,F:0\n",
    "X_train , X_test , y_train , y_test  = train_test_split(X, y, test_size=0.2, random_state=42)\n",
    "X_train , X_val , y_train , y_val  = train_test_split(X_train, y_train, test_size=0.2, random_state=42)\n",
    "print('X train shape: ', X_train.shape)\n",
    "print('y train shape: ', y_train.shape)\n",
    "print('X test shape: ', X_test.shape)\n",
    "print('y test shape: ', y_test.shape)\n",
    "print('X val shape: ', X_val.shape)\n",
    "print('y val shape: ', y_val.shape)"
   ]
  },
  {
   "cell_type": "code",
   "execution_count": 107,
   "metadata": {},
   "outputs": [],
   "source": [
    "lgb_train = lgb.Dataset(X_train, y_train,free_raw_data=False)\n",
    "lgb_val= lgb.Dataset(X_val, y_val, reference=lgb_train,free_raw_data=False)"
   ]
  },
  {
   "cell_type": "code",
   "execution_count": 108,
   "metadata": {},
   "outputs": [],
   "source": [
    "#params = {'num_leaves': 5,'metric': ['cross_entropy'],'verbose': -1}\n",
    "params = {'boosting_type': 'gbdt',\n",
    "          'objective': 'regression',\n",
    "          'metric':'mse',\n",
    "          'num_leaves': 10,\n",
    "          'learning_rate':0.1,\n",
    "          'verbose': -1}"
   ]
  },
  {
   "cell_type": "code",
   "execution_count": 109,
   "metadata": {},
   "outputs": [
    {
     "name": "stdout",
     "output_type": "stream",
     "text": [
      "Training until validation scores don't improve for 20 rounds\n",
      "[20]\ttraining's l2: 1.28016\tvalid_1's l2: 1.35092\n",
      "[40]\ttraining's l2: 1.18144\tvalid_1's l2: 1.34146\n",
      "[60]\ttraining's l2: 1.09969\tvalid_1's l2: 1.33954\n",
      "[80]\ttraining's l2: 1.02827\tvalid_1's l2: 1.33285\n",
      "[100]\ttraining's l2: 0.964873\tvalid_1's l2: 1.33423\n",
      "Early stopping, best iteration is:\n",
      "[88]\ttraining's l2: 1.00101\tvalid_1's l2: 1.33207\n"
     ]
    }
   ],
   "source": [
    "gbm,_ = lgbmodel(params=params,X_train=X_train,lgb_train=lgb_train,lgb_val=lgb_val,early_stop=20)"
   ]
  },
  {
   "cell_type": "markdown",
   "metadata": {},
   "source": [
    "### prediction"
   ]
  },
  {
   "cell_type": "code",
   "execution_count": 110,
   "metadata": {},
   "outputs": [
    {
     "data": {
      "text/plain": [
       "1.3562552559196197"
      ]
     },
     "execution_count": 110,
     "metadata": {},
     "output_type": "execute_result"
    }
   ],
   "source": [
    "y_pred = gbm.predict(X_test)\n",
    "mse(y_pred,y_test)"
   ]
  },
  {
   "cell_type": "markdown",
   "metadata": {},
   "source": [
    "### svm"
   ]
  },
  {
   "cell_type": "code",
   "execution_count": 111,
   "metadata": {},
   "outputs": [
    {
     "data": {
      "text/plain": [
       "SVR(C=1.0, cache_size=200, coef0=0.0, degree=3, epsilon=0.1, gamma='scale',\n",
       "    kernel='rbf', max_iter=-1, shrinking=True, tol=0.001, verbose=False)"
      ]
     },
     "execution_count": 111,
     "metadata": {},
     "output_type": "execute_result"
    }
   ],
   "source": [
    "svm = SVR(gamma='scale')\n",
    "svm.fit(np.r_[X_train,X_val],np.r_[y_train,y_val])"
   ]
  },
  {
   "cell_type": "code",
   "execution_count": 112,
   "metadata": {},
   "outputs": [
    {
     "data": {
      "text/plain": [
       "1.416629125173924"
      ]
     },
     "execution_count": 112,
     "metadata": {},
     "output_type": "execute_result"
    }
   ],
   "source": [
    "y_pred = svm.predict(X_test)\n",
    "mse(y_pred,y_test)"
   ]
  },
  {
   "cell_type": "markdown",
   "metadata": {},
   "source": [
    "## Finetuning"
   ]
  },
  {
   "cell_type": "code",
   "execution_count": 24,
   "metadata": {},
   "outputs": [],
   "source": [
    "from sklearn.model_selection import GridSearchCV"
   ]
  },
  {
   "cell_type": "code",
   "execution_count": null,
   "metadata": {},
   "outputs": [
    {
     "name": "stdout",
     "output_type": "stream",
     "text": [
      "Fitting 3 folds for each of 9 candidates, totalling 27 fits\n",
      "[CV] C=0.1, gamma=1, kernel=rbf ......................................\n"
     ]
    },
    {
     "name": "stderr",
     "output_type": "stream",
     "text": [
      "[Parallel(n_jobs=1)]: Using backend SequentialBackend with 1 concurrent workers.\n"
     ]
    },
    {
     "name": "stdout",
     "output_type": "stream",
     "text": [
      "[CV] ....................... C=0.1, gamma=1, kernel=rbf, total= 6.7min\n",
      "[CV] C=0.1, gamma=1, kernel=rbf ......................................\n"
     ]
    },
    {
     "name": "stderr",
     "output_type": "stream",
     "text": [
      "[Parallel(n_jobs=1)]: Done   1 out of   1 | elapsed:  6.7min remaining:    0.0s\n"
     ]
    },
    {
     "name": "stdout",
     "output_type": "stream",
     "text": [
      "[CV] ....................... C=0.1, gamma=1, kernel=rbf, total= 6.6min\n",
      "[CV] C=0.1, gamma=1, kernel=rbf ......................................\n",
      "[CV] ....................... C=0.1, gamma=1, kernel=rbf, total= 6.6min\n",
      "[CV] C=0.1, gamma=1e-05, kernel=rbf ..................................\n",
      "[CV] ................... C=0.1, gamma=1e-05, kernel=rbf, total= 6.5min\n",
      "[CV] C=0.1, gamma=1e-05, kernel=rbf ..................................\n",
      "[CV] ................... C=0.1, gamma=1e-05, kernel=rbf, total= 6.5min\n",
      "[CV] C=0.1, gamma=1e-05, kernel=rbf ..................................\n",
      "[CV] ................... C=0.1, gamma=1e-05, kernel=rbf, total= 6.8min\n",
      "[CV] C=0.1, gamma=1e-10, kernel=rbf ..................................\n",
      "[CV] ................... C=0.1, gamma=1e-10, kernel=rbf, total= 6.9min\n",
      "[CV] C=0.1, gamma=1e-10, kernel=rbf ..................................\n",
      "[CV] ................... C=0.1, gamma=1e-10, kernel=rbf, total= 7.3min\n",
      "[CV] C=0.1, gamma=1e-10, kernel=rbf ..................................\n",
      "[CV] ................... C=0.1, gamma=1e-10, kernel=rbf, total= 6.9min\n",
      "[CV] C=10, gamma=1, kernel=rbf .......................................\n",
      "[CV] ........................ C=10, gamma=1, kernel=rbf, total=16.2min\n",
      "[CV] C=10, gamma=1, kernel=rbf .......................................\n",
      "[CV] ........................ C=10, gamma=1, kernel=rbf, total=17.4min\n",
      "[CV] C=10, gamma=1, kernel=rbf .......................................\n",
      "[CV] ........................ C=10, gamma=1, kernel=rbf, total=16.6min\n",
      "[CV] C=10, gamma=1e-05, kernel=rbf ...................................\n",
      "[CV] .................... C=10, gamma=1e-05, kernel=rbf, total=17.4min\n",
      "[CV] C=10, gamma=1e-05, kernel=rbf ...................................\n",
      "[CV] .................... C=10, gamma=1e-05, kernel=rbf, total=15.5min\n",
      "[CV] C=10, gamma=1e-05, kernel=rbf ...................................\n",
      "[CV] .................... C=10, gamma=1e-05, kernel=rbf, total=16.1min\n",
      "[CV] C=10, gamma=1e-10, kernel=rbf ...................................\n",
      "[CV] .................... C=10, gamma=1e-10, kernel=rbf, total= 7.0min\n",
      "[CV] C=10, gamma=1e-10, kernel=rbf ...................................\n",
      "[CV] .................... C=10, gamma=1e-10, kernel=rbf, total= 7.1min\n",
      "[CV] C=10, gamma=1e-10, kernel=rbf ...................................\n",
      "[CV] .................... C=10, gamma=1e-10, kernel=rbf, total= 7.1min\n",
      "[CV] C=1000, gamma=1, kernel=rbf .....................................\n",
      "[CV] ...................... C=1000, gamma=1, kernel=rbf, total=14.5min\n",
      "[CV] C=1000, gamma=1, kernel=rbf .....................................\n",
      "[CV] ...................... C=1000, gamma=1, kernel=rbf, total=14.7min\n",
      "[CV] C=1000, gamma=1, kernel=rbf .....................................\n"
     ]
    }
   ],
   "source": [
    "param_grid = {'C': [0.1,10,1000],  \n",
    "              'gamma': [1, 1e-5,1e-10], \n",
    "              'kernel': ['rbf']}  \n",
    "grid = GridSearchCV(SVR(), param_grid, scoring='neg_mean_squared_error', cv=3, refit=True, verbose=3) \n",
    "# fitting the model for grid search \n",
    "grid.fit(np.r_[X_train,X_val], np.r_[y_train,y_val]) "
   ]
  },
  {
   "cell_type": "code",
   "execution_count": null,
   "metadata": {},
   "outputs": [],
   "source": []
  },
  {
   "cell_type": "code",
   "execution_count": null,
   "metadata": {},
   "outputs": [],
   "source": []
  },
  {
   "cell_type": "markdown",
   "metadata": {},
   "source": [
    "### Plot metrics recorded during training"
   ]
  },
  {
   "cell_type": "code",
   "execution_count": null,
   "metadata": {},
   "outputs": [],
   "source": [
    "try:\n",
    "    # To enable interactive mode you should install ipywidgets\n",
    "    # https://github.com/jupyter-widgets/ipywidgets\n",
    "    from ipywidgets import interact, SelectMultiple\n",
    "    INTERACTIVE = True\n",
    "except ImportError:\n",
    "    INTERACTIVE = False\n",
    "import matplotlib.pyplot as plt"
   ]
  },
  {
   "cell_type": "code",
   "execution_count": null,
   "metadata": {},
   "outputs": [],
   "source": [
    "def render_metric(metric_name):\n",
    "    ax = lgb.plot_metric(evals_result, metric=metric_name, figsize=(10, 5))\n",
    "    plt.show()"
   ]
  },
  {
   "cell_type": "code",
   "execution_count": null,
   "metadata": {},
   "outputs": [],
   "source": [
    "if INTERACTIVE:\n",
    "    # create widget to switch between metrics\n",
    "    interact(render_metric, metric_name=params['metric'])\n",
    "else:\n",
    "    render_metric(params['metric'][0])"
   ]
  },
  {
   "cell_type": "markdown",
   "metadata": {},
   "source": [
    "### Plot feature importances"
   ]
  },
  {
   "cell_type": "code",
   "execution_count": null,
   "metadata": {},
   "outputs": [],
   "source": [
    "def render_plot_importance(importance_type, max_features=10,\n",
    "                           ignore_zero=True, precision=3):\n",
    "    ax = lgb.plot_importance(gbm, importance_type=importance_type,\n",
    "                             max_num_features=max_features,\n",
    "                             ignore_zero=ignore_zero, figsize=(12, 8),\n",
    "                             precision=precision)\n",
    "    plt.show()"
   ]
  },
  {
   "cell_type": "code",
   "execution_count": null,
   "metadata": {},
   "outputs": [],
   "source": [
    "if INTERACTIVE:\n",
    "    # create widget for interactive feature importance plot\n",
    "    interact(render_plot_importance,\n",
    "             importance_type=['split', 'gain'],\n",
    "             max_features=(1, X_train.shape[-1]),\n",
    "             precision=(0, 10))\n",
    "else:\n",
    "    render_plot_importance(importance_type='split')"
   ]
  },
  {
   "cell_type": "markdown",
   "metadata": {},
   "source": [
    "### Plot split value histogram"
   ]
  },
  {
   "cell_type": "code",
   "execution_count": null,
   "metadata": {},
   "outputs": [],
   "source": [
    "def render_histogram(feature):\n",
    "    ax = lgb.plot_split_value_histogram(gbm, feature=feature,\n",
    "                                        bins='auto', figsize=(10, 5))\n",
    "    plt.show()"
   ]
  },
  {
   "cell_type": "code",
   "execution_count": null,
   "metadata": {},
   "outputs": [],
   "source": [
    "if INTERACTIVE:\n",
    "    # create widget for interactive split value histogram\n",
    "    interact(render_histogram,\n",
    "             feature=gbm.feature_name())\n",
    "else:\n",
    "    render_histogram(feature='f26')"
   ]
  },
  {
   "cell_type": "code",
   "execution_count": null,
   "metadata": {},
   "outputs": [],
   "source": []
  },
  {
   "cell_type": "code",
   "execution_count": null,
   "metadata": {},
   "outputs": [],
   "source": []
  }
 ],
 "metadata": {
  "kernelspec": {
   "display_name": "Python 3",
   "language": "python",
   "name": "python3"
  },
  "language_info": {
   "codemirror_mode": {
    "name": "ipython",
    "version": 3
   },
   "file_extension": ".py",
   "mimetype": "text/x-python",
   "name": "python",
   "nbconvert_exporter": "python",
   "pygments_lexer": "ipython3",
   "version": "3.6.10"
  }
 },
 "nbformat": 4,
 "nbformat_minor": 4
}
