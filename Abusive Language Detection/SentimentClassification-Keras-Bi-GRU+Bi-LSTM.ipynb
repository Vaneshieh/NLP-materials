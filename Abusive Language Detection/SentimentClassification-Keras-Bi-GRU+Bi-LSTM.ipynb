{
 "cells": [
  {
   "cell_type": "markdown",
   "metadata": {},
   "source": [
    "# This kernel detect abusive languages in facebook using RNN models\n",
    "\n",
    "- author Wen Xie, vaneshieh@gmail.com"
   ]
  },
  {
   "cell_type": "code",
   "execution_count": 1,
   "metadata": {},
   "outputs": [
    {
     "name": "stderr",
     "output_type": "stream",
     "text": [
      "Using TensorFlow backend.\n"
     ]
    }
   ],
   "source": [
    "from __future__ import print_function\n",
    "import warnings\n",
    "warnings.filterwarnings('ignore')\n",
    "\n",
    "import tensorflow as tf\n",
    "import keras.backend.tensorflow_backend as KTF\n",
    "import os\n",
    "os.environ['CUDA_VISIBLE_DEVICES'] = '0'\n",
    "config = tf.ConfigProto() \n",
    "config.gpu_options.per_process_gpu_memory_fraction = 0.6 # 占用GPU50%的显存 \n",
    "sess= tf.Session(config=config)\n",
    "KTF.set_session(sess)\n",
    "\n",
    "from keras.preprocessing import sequence\n",
    "from keras.models import Sequential\n",
    "from keras.layers import Dense, Dropout, Activation, Bidirectional, TimeDistributed\n",
    "from keras.layers import Embedding\n",
    "from keras.layers import LSTM, GRU\n",
    "from keras.layers import Conv1D, MaxPooling1D, GlobalMaxPool1D\n",
    "from keras.preprocessing.text import Tokenizer\n",
    "from keras import optimizers\n",
    "from keras.callbacks import EarlyStopping,ReduceLROnPlateau\n",
    "\n",
    "import pandas as pd\n",
    "import numpy as np\n",
    "import random\n",
    "\n",
    "from imblearn.over_sampling import SMOTE, ADASYN\n",
    "from collections import Counter\n",
    "\n",
    "from sklearn.metrics import classification_report\n",
    "from sklearn.metrics import confusion_matrix\n",
    "from sklearn.metrics import accuracy_score"
   ]
  },
  {
   "cell_type": "code",
   "execution_count": 12,
   "metadata": {},
   "outputs": [],
   "source": [
    "train_data = pd.read_csv('train.csv',encoding='latin-1')\n",
    "dev_data = pd.read_csv('dev.csv',encoding='latin-1')\n",
    "test_data = pd.read_csv('test_no_label.csv',encoding='latin-1')"
   ]
  },
  {
   "cell_type": "code",
   "execution_count": 13,
   "metadata": {},
   "outputs": [],
   "source": [
    "def codelabel(df):\n",
    "    df['Label'].replace('NAG', 0, inplace=True)\n",
    "    df['Label'].replace('OAG', 1, inplace=True)\n",
    "    df['Label'].replace('CAG', 2, inplace=True)\n",
    "    return df"
   ]
  },
  {
   "cell_type": "code",
   "execution_count": 14,
   "metadata": {},
   "outputs": [],
   "source": [
    "train_data = codelabel(train_data)\n",
    "dev_data = codelabel(dev_data)"
   ]
  },
  {
   "cell_type": "code",
   "execution_count": 15,
   "metadata": {},
   "outputs": [
    {
     "data": {
      "text/html": [
       "<div>\n",
       "<style scoped>\n",
       "    .dataframe tbody tr th:only-of-type {\n",
       "        vertical-align: middle;\n",
       "    }\n",
       "\n",
       "    .dataframe tbody tr th {\n",
       "        vertical-align: top;\n",
       "    }\n",
       "\n",
       "    .dataframe thead th {\n",
       "        text-align: right;\n",
       "    }\n",
       "</style>\n",
       "<table border=\"1\" class=\"dataframe\">\n",
       "  <thead>\n",
       "    <tr style=\"text-align: right;\">\n",
       "      <th></th>\n",
       "      <th>ID</th>\n",
       "      <th>Comment</th>\n",
       "      <th>Label</th>\n",
       "    </tr>\n",
       "  </thead>\n",
       "  <tbody>\n",
       "    <tr>\n",
       "      <th>0</th>\n",
       "      <td>facebook_corpus_msr_1723796</td>\n",
       "      <td>Well said sonu..you have courage to stand agai...</td>\n",
       "      <td>1</td>\n",
       "    </tr>\n",
       "    <tr>\n",
       "      <th>1</th>\n",
       "      <td>facebook_corpus_msr_466073</td>\n",
       "      <td>Most of Private Banks ATM's Like HDFC, ICICI e...</td>\n",
       "      <td>0</td>\n",
       "    </tr>\n",
       "    <tr>\n",
       "      <th>2</th>\n",
       "      <td>facebook_corpus_msr_1493901</td>\n",
       "      <td>Now question is, Pakistan will adhere to this?</td>\n",
       "      <td>1</td>\n",
       "    </tr>\n",
       "    <tr>\n",
       "      <th>3</th>\n",
       "      <td>facebook_corpus_msr_405512</td>\n",
       "      <td>Pakistan is comprised of fake muslims who does...</td>\n",
       "      <td>1</td>\n",
       "    </tr>\n",
       "    <tr>\n",
       "      <th>4</th>\n",
       "      <td>facebook_corpus_msr_1521685</td>\n",
       "      <td>??we r against cow slaughter,so of course it w...</td>\n",
       "      <td>0</td>\n",
       "    </tr>\n",
       "  </tbody>\n",
       "</table>\n",
       "</div>"
      ],
      "text/plain": [
       "                            ID  \\\n",
       "0  facebook_corpus_msr_1723796   \n",
       "1   facebook_corpus_msr_466073   \n",
       "2  facebook_corpus_msr_1493901   \n",
       "3   facebook_corpus_msr_405512   \n",
       "4  facebook_corpus_msr_1521685   \n",
       "\n",
       "                                             Comment  Label  \n",
       "0  Well said sonu..you have courage to stand agai...      1  \n",
       "1  Most of Private Banks ATM's Like HDFC, ICICI e...      0  \n",
       "2     Now question is, Pakistan will adhere to this?      1  \n",
       "3  Pakistan is comprised of fake muslims who does...      1  \n",
       "4  ??we r against cow slaughter,so of course it w...      0  "
      ]
     },
     "execution_count": 15,
     "metadata": {},
     "output_type": "execute_result"
    }
   ],
   "source": [
    "train_data.head()"
   ]
  },
  {
   "cell_type": "code",
   "execution_count": 16,
   "metadata": {},
   "outputs": [
    {
     "data": {
      "text/plain": [
       "0    5052\n",
       "2    4240\n",
       "1    2708\n",
       "Name: Label, dtype: int64"
      ]
     },
     "execution_count": 16,
     "metadata": {},
     "output_type": "execute_result"
    }
   ],
   "source": [
    "train_data['Label'].value_counts()"
   ]
  },
  {
   "cell_type": "code",
   "execution_count": 17,
   "metadata": {},
   "outputs": [
    {
     "data": {
      "text/html": [
       "<div>\n",
       "<style scoped>\n",
       "    .dataframe tbody tr th:only-of-type {\n",
       "        vertical-align: middle;\n",
       "    }\n",
       "\n",
       "    .dataframe tbody tr th {\n",
       "        vertical-align: top;\n",
       "    }\n",
       "\n",
       "    .dataframe thead th {\n",
       "        text-align: right;\n",
       "    }\n",
       "</style>\n",
       "<table border=\"1\" class=\"dataframe\">\n",
       "  <thead>\n",
       "    <tr style=\"text-align: right;\">\n",
       "      <th></th>\n",
       "      <th>ID</th>\n",
       "      <th>Comment</th>\n",
       "      <th>Label</th>\n",
       "    </tr>\n",
       "  </thead>\n",
       "  <tbody>\n",
       "    <tr>\n",
       "      <th>0</th>\n",
       "      <td>facebook_corpus_msr_451811</td>\n",
       "      <td>The quality of re made now makes me think it i...</td>\n",
       "      <td>2</td>\n",
       "    </tr>\n",
       "    <tr>\n",
       "      <th>1</th>\n",
       "      <td>facebook_corpus_msr_334368</td>\n",
       "      <td>@siva \\rHow is ur mother???\\rHow is ur wife???...</td>\n",
       "      <td>0</td>\n",
       "    </tr>\n",
       "    <tr>\n",
       "      <th>2</th>\n",
       "      <td>facebook_corpus_msr_331195</td>\n",
       "      <td>Also see ....hw ur RSS activist caught in Burk...</td>\n",
       "      <td>0</td>\n",
       "    </tr>\n",
       "    <tr>\n",
       "      <th>3</th>\n",
       "      <td>facebook_corpus_msr_403402</td>\n",
       "      <td>On the death of 2 jawans in LOC CROSS FIRING\\r...</td>\n",
       "      <td>0</td>\n",
       "    </tr>\n",
       "    <tr>\n",
       "      <th>4</th>\n",
       "      <td>facebook_corpus_msr_379239</td>\n",
       "      <td>Modi ho ya Manmohan singh saala yeh log kuch n...</td>\n",
       "      <td>1</td>\n",
       "    </tr>\n",
       "  </tbody>\n",
       "</table>\n",
       "</div>"
      ],
      "text/plain": [
       "                           ID  \\\n",
       "0  facebook_corpus_msr_451811   \n",
       "1  facebook_corpus_msr_334368   \n",
       "2  facebook_corpus_msr_331195   \n",
       "3  facebook_corpus_msr_403402   \n",
       "4  facebook_corpus_msr_379239   \n",
       "\n",
       "                                             Comment  Label  \n",
       "0  The quality of re made now makes me think it i...      2  \n",
       "1  @siva \\rHow is ur mother???\\rHow is ur wife???...      0  \n",
       "2  Also see ....hw ur RSS activist caught in Burk...      0  \n",
       "3  On the death of 2 jawans in LOC CROSS FIRING\\r...      0  \n",
       "4  Modi ho ya Manmohan singh saala yeh log kuch n...      1  "
      ]
     },
     "execution_count": 17,
     "metadata": {},
     "output_type": "execute_result"
    }
   ],
   "source": [
    "dev_data.head()"
   ]
  },
  {
   "cell_type": "code",
   "execution_count": 18,
   "metadata": {},
   "outputs": [
    {
     "data": {
      "text/plain": [
       "facebook_corpus_msr_443449     1\n",
       "facebook_corpus_msr_2082424    1\n",
       "facebook_corpus_msr_325749     1\n",
       "facebook_corpus_msr_442952     1\n",
       "facebook_corpus_msr_2073718    1\n",
       "                              ..\n",
       "facebook_corpus_msr_393962     1\n",
       "facebook_corpus_msr_337217     1\n",
       "facebook_corpus_msr_410609     1\n",
       "facebook_corpus_msr_436595     1\n",
       "facebook_corpus_msr_496789     1\n",
       "Name: ID, Length: 12000, dtype: int64"
      ]
     },
     "execution_count": 18,
     "metadata": {},
     "output_type": "execute_result"
    }
   ],
   "source": [
    "train_data['ID'].value_counts()"
   ]
  },
  {
   "cell_type": "code",
   "execution_count": 19,
   "metadata": {},
   "outputs": [],
   "source": [
    "X_train = train_data['Comment'].values\n",
    "y_train = train_data['Label'].values\n",
    "X_dev = dev_data['Comment'].values\n",
    "y_dev = dev_data['Label'].values\n",
    "X_test = test_data['Comment'].values"
   ]
  },
  {
   "cell_type": "markdown",
   "metadata": {},
   "source": [
    "## Token encoder"
   ]
  },
  {
   "cell_type": "code",
   "execution_count": 20,
   "metadata": {},
   "outputs": [
    {
     "name": "stdout",
     "output_type": "stream",
     "text": [
      "Found 26359 unique tokens.\n"
     ]
    }
   ],
   "source": [
    "tokenizer_obj = Tokenizer()\n",
    "vocab = list(X_train) + list(X_dev)\n",
    "tokenizer_obj.fit_on_texts(vocab)\n",
    "\n",
    "word_index = tokenizer_obj.word_index\n",
    "print('Found %s unique tokens.' % len(word_index))\n",
    "\n",
    "#pad sequences\n",
    "max_length = max([len(s.split()) for s in vocab])\n",
    "#define vocab size\n",
    "vocab_size = len(tokenizer_obj.word_index) + 1\n",
    "#embedding size\n",
    "embedding_size = 100\n",
    "\n",
    "\n",
    "X_train_tokens = tokenizer_obj.texts_to_sequences(X_train)\n",
    "X_dev_tokens = tokenizer_obj.texts_to_sequences(X_dev)\n",
    "X_test_tokens = tokenizer_obj.texts_to_sequences(X_test)\n",
    "\n",
    "X_train_pad = sequence.pad_sequences(X_train_tokens,maxlen=max_length,padding='post')\n",
    "X_dev_pad = sequence.pad_sequences(X_dev_tokens,maxlen=max_length,padding='post')\n",
    "X_test_pad = sequence.pad_sequences(X_test_tokens,maxlen=max_length,padding='post')"
   ]
  },
  {
   "cell_type": "code",
   "execution_count": 21,
   "metadata": {},
   "outputs": [
    {
     "data": {
      "text/plain": [
       "1126"
      ]
     },
     "execution_count": 21,
     "metadata": {},
     "output_type": "execute_result"
    }
   ],
   "source": [
    "max_length"
   ]
  },
  {
   "cell_type": "code",
   "execution_count": 22,
   "metadata": {},
   "outputs": [
    {
     "data": {
      "text/plain": [
       "26360"
      ]
     },
     "execution_count": 22,
     "metadata": {},
     "output_type": "execute_result"
    }
   ],
   "source": [
    "vocab_size"
   ]
  },
  {
   "cell_type": "code",
   "execution_count": 23,
   "metadata": {},
   "outputs": [
    {
     "data": {
      "text/plain": [
       "array([[ 131,  155,  358, ...,    0,    0,    0],\n",
       "       [ 188,    5, 1154, ...,    0,    0,    0],\n",
       "       [  56,  434,    4, ...,    0,    0,    0],\n",
       "       ...,\n",
       "       [5647,  104,    0, ...,    0,    0,    0],\n",
       "       [ 591,  201,   24, ...,    0,    0,    0],\n",
       "       [ 735,   42, 7504, ...,    0,    0,    0]])"
      ]
     },
     "execution_count": 23,
     "metadata": {},
     "output_type": "execute_result"
    }
   ],
   "source": [
    "X_train_pad"
   ]
  },
  {
   "cell_type": "code",
   "execution_count": 24,
   "metadata": {},
   "outputs": [
    {
     "name": "stdout",
     "output_type": "stream",
     "text": [
      "X_train shape: (12000, 1126)\n",
      "y_train shape: (12000,)\n",
      "X_dev shape: (2000, 1126)\n",
      "y_dev shape: (2000,)\n",
      "X_tes shape: (1001,)\n"
     ]
    }
   ],
   "source": [
    "print('X_train shape:', X_train_pad.shape)\n",
    "print('y_train shape:', y_train.shape)\n",
    "print('X_dev shape:', X_dev_pad.shape)\n",
    "print('y_dev shape:', y_dev.shape)\n",
    "print('X_tes shape:', X_test.shape)"
   ]
  },
  {
   "cell_type": "markdown",
   "metadata": {},
   "source": [
    "## Oversampling imbalanced dataset"
   ]
  },
  {
   "cell_type": "code",
   "execution_count": 25,
   "metadata": {},
   "outputs": [
    {
     "name": "stdout",
     "output_type": "stream",
     "text": [
      "[(0, 5052), (1, 5052), (2, 5052)]\n"
     ]
    }
   ],
   "source": [
    "X_train_pad, y_train = SMOTE().fit_resample(X_train_pad, y_train)\n",
    "print(sorted(Counter(y_train).items()))"
   ]
  },
  {
   "cell_type": "code",
   "execution_count": 26,
   "metadata": {},
   "outputs": [],
   "source": [
    "# Convolution\n",
    "kernel_size = 5\n",
    "filters = 64\n",
    "pool_size = 4"
   ]
  },
  {
   "cell_type": "markdown",
   "metadata": {},
   "source": [
    "## Pretrained embeddings"
   ]
  },
  {
   "cell_type": "code",
   "execution_count": 27,
   "metadata": {},
   "outputs": [
    {
     "name": "stdout",
     "output_type": "stream",
     "text": [
      "Found 400000 word vectors.\n"
     ]
    }
   ],
   "source": [
    "embeddings_index = {}\n",
    "f = open('glove.6B.100d.txt', 'r', encoding=\"utf8\")\n",
    "for line in f:\n",
    "    values = line.split()\n",
    "    word = values[0]\n",
    "    coefs = np.asarray(values[1:], dtype='float32')\n",
    "    embeddings_index[word] = coefs\n",
    "f.close()\n",
    "\n",
    "print('Found %s word vectors.' % len(embeddings_index))"
   ]
  },
  {
   "cell_type": "code",
   "execution_count": 31,
   "metadata": {},
   "outputs": [
    {
     "data": {
      "text/plain": [
       "array([-0.038194, -0.24487 ,  0.72812 , -0.39961 ,  0.083172,  0.043953,\n",
       "       -0.39141 ,  0.3344  , -0.57545 ,  0.087459,  0.28787 , -0.06731 ,\n",
       "        0.30906 , -0.26384 , -0.13231 , -0.20757 ,  0.33395 , -0.33848 ,\n",
       "       -0.31743 , -0.48336 ,  0.1464  , -0.37304 ,  0.34577 ,  0.052041,\n",
       "        0.44946 , -0.46971 ,  0.02628 , -0.54155 , -0.15518 , -0.14107 ,\n",
       "       -0.039722,  0.28277 ,  0.14393 ,  0.23464 , -0.31021 ,  0.086173,\n",
       "        0.20397 ,  0.52624 ,  0.17164 , -0.082378, -0.71787 , -0.41531 ,\n",
       "        0.20335 , -0.12763 ,  0.41367 ,  0.55187 ,  0.57908 , -0.33477 ,\n",
       "       -0.36559 , -0.54857 , -0.062892,  0.26584 ,  0.30205 ,  0.99775 ,\n",
       "       -0.80481 , -3.0243  ,  0.01254 , -0.36942 ,  2.2167  ,  0.72201 ,\n",
       "       -0.24978 ,  0.92136 ,  0.034514,  0.46745 ,  1.1079  , -0.19358 ,\n",
       "       -0.074575,  0.23353 , -0.052062, -0.22044 ,  0.057162, -0.15806 ,\n",
       "       -0.30798 , -0.41625 ,  0.37972 ,  0.15006 , -0.53212 , -0.2055  ,\n",
       "       -1.2526  ,  0.071624,  0.70565 ,  0.49744 , -0.42063 ,  0.26148 ,\n",
       "       -1.538   , -0.30223 , -0.073438, -0.28312 ,  0.37104 , -0.25217 ,\n",
       "        0.016215, -0.017099, -0.38984 ,  0.87424 , -0.72569 , -0.51058 ,\n",
       "       -0.52028 , -0.1459  ,  0.8278  ,  0.27062 ], dtype=float32)"
      ]
     },
     "execution_count": 31,
     "metadata": {},
     "output_type": "execute_result"
    }
   ],
   "source": [
    "embeddings_index.get('the')"
   ]
  },
  {
   "cell_type": "code",
   "execution_count": 29,
   "metadata": {},
   "outputs": [],
   "source": [
    "embedding_matrix = np.zeros((len(tokenizer_obj.word_index) + 1, embedding_size ))\n",
    "for word, i in word_index.items():\n",
    "    embedding_vector = embeddings_index.get(word)\n",
    "    if embedding_vector is not None:\n",
    "        # words not found in embedding index will be all-zeros.\n",
    "        embedding_matrix[i] = embedding_vector"
   ]
  },
  {
   "cell_type": "code",
   "execution_count": 30,
   "metadata": {},
   "outputs": [
    {
     "data": {
      "text/plain": [
       "array([[ 0.        ,  0.        ,  0.        , ...,  0.        ,\n",
       "         0.        ,  0.        ],\n",
       "       [-0.038194  , -0.24487001,  0.72812003, ..., -0.1459    ,\n",
       "         0.82779998,  0.27061999],\n",
       "       [-0.18970001,  0.050024  ,  0.19084001, ..., -0.39804   ,\n",
       "         0.47646999, -0.15983   ],\n",
       "       ...,\n",
       "       [ 0.        ,  0.        ,  0.        , ...,  0.        ,\n",
       "         0.        ,  0.        ],\n",
       "       [-0.50216001, -0.40704   , -0.22932   , ...,  0.13665999,\n",
       "         0.18063   , -0.14688   ],\n",
       "       [-0.49950001, -0.78237998, -0.43779999, ...,  0.065569  ,\n",
       "         1.15569997,  0.53843999]])"
      ]
     },
     "execution_count": 30,
     "metadata": {},
     "output_type": "execute_result"
    }
   ],
   "source": [
    "embedding_matrix"
   ]
  },
  {
   "cell_type": "markdown",
   "metadata": {},
   "source": [
    "## Build model in Keras"
   ]
  },
  {
   "cell_type": "code",
   "execution_count": 32,
   "metadata": {},
   "outputs": [],
   "source": [
    "model = Sequential()\n",
    "model.add(Embedding(vocab_size, embedding_size, input_length=max_length,weights=[embedding_matrix],trainable=False))\n",
    "model.add(Bidirectional(LSTM(10, dropout=0.3, recurrent_dropout=0.3,return_sequences=True)))\n",
    "#model.add(Bidirectional(GRU(units=8, dropout=0.3, recurrent_dropout=0.3,return_sequences=True)))\n",
    "model.add(Bidirectional(LSTM(10, dropout=0.3, recurrent_dropout=0.3,return_sequences=True)))\n",
    "#model.add(Bidirectional(LSTM(10, dropout=0.3, recurrent_dropout=0.3)))\n",
    "#model.add(Dropout(0.4))\n",
    "model.add(Dense(3,activation = 'softmax'))\n",
    "adam = optimizers.Adam(lr=0.01)\n",
    "model.compile(loss='sparse_categorical_crossentropy',optimizer=adam, metrics=['sparse_categorical_accuracy'])"
   ]
  },
  {
   "cell_type": "code",
   "execution_count": null,
   "metadata": {},
   "outputs": [],
   "source": [
    "init = tf.global_variables_initializer()\n",
    "sess.run(init)\n",
    "\n",
    "print('Train...')\n",
    "reduce_lr = ReduceLROnPlateau(monitor='val_loss', factor=0.1, patience=5,min_lr=0.0000001)\n",
    "es = EarlyStopping(monitor='val_sparse_categorical_accuracy',patience=5,verbose=1,restore_best_weights=True)\n",
    "model.fit(X_train_pad, y_train,batch_size=256,epochs=40,validation_data=(X_dev_pad, y_dev), callbacks=[es,reduce_lr])"
   ]
  },
  {
   "cell_type": "code",
   "execution_count": 39,
   "metadata": {},
   "outputs": [
    {
     "name": "stdout",
     "output_type": "stream",
     "text": [
      "              precision    recall  f1-score   support\n",
      "\n",
      "         NAG     0.6861    0.6356    0.6599       815\n",
      "         OAG     0.4743    0.4000    0.4340       485\n",
      "         CAG     0.4605    0.5500    0.5013       700\n",
      "\n",
      "    accuracy                         0.5485      2000\n",
      "   macro avg     0.5403    0.5285    0.5317      2000\n",
      "weighted avg     0.5558    0.5485    0.5496      2000\n",
      "\n",
      "['NAG', 'OAG', 'CAG']\n",
      "[[518  74 223]\n",
      " [ 63 194 228]\n",
      " [174 141 385]]\n"
     ]
    }
   ],
   "source": [
    "out = model.predict(X_dev_pad)\n",
    "y_pred = [list(i).index(max(i)) for i in out]\n",
    "print(classification_report(y_dev, y_pred, target_names=['NAG', 'OAG', 'CAG'],digits=4))\n",
    "print(['NAG', 'OAG', 'CAG'])\n",
    "print(confusion_matrix(y_dev, y_pred,labels=[0, 1, 2]))"
   ]
  },
  {
   "cell_type": "markdown",
   "metadata": {},
   "source": [
    "## prediction"
   ]
  },
  {
   "cell_type": "code",
   "execution_count": 36,
   "metadata": {},
   "outputs": [
    {
     "data": {
      "text/html": [
       "<div>\n",
       "<style scoped>\n",
       "    .dataframe tbody tr th:only-of-type {\n",
       "        vertical-align: middle;\n",
       "    }\n",
       "\n",
       "    .dataframe tbody tr th {\n",
       "        vertical-align: top;\n",
       "    }\n",
       "\n",
       "    .dataframe thead th {\n",
       "        text-align: right;\n",
       "    }\n",
       "</style>\n",
       "<table border=\"1\" class=\"dataframe\">\n",
       "  <thead>\n",
       "    <tr style=\"text-align: right;\">\n",
       "      <th></th>\n",
       "      <th>ID</th>\n",
       "      <th>Comment</th>\n",
       "      <th>Label</th>\n",
       "    </tr>\n",
       "  </thead>\n",
       "  <tbody>\n",
       "    <tr>\n",
       "      <th>0</th>\n",
       "      <td>facebook_corpus_msr_495558</td>\n",
       "      <td>But if same had been given before olymic games...</td>\n",
       "      <td>NAG</td>\n",
       "    </tr>\n",
       "    <tr>\n",
       "      <th>1</th>\n",
       "      <td>facebook_corpus_msr_1561809</td>\n",
       "      <td>Does our constitution gives power to misbehave...</td>\n",
       "      <td>CAG</td>\n",
       "    </tr>\n",
       "    <tr>\n",
       "      <th>2</th>\n",
       "      <td>facebook_corpus_msr_442487</td>\n",
       "      <td>automotive awards are done at the cost of spar...</td>\n",
       "      <td>NAG</td>\n",
       "    </tr>\n",
       "    <tr>\n",
       "      <th>3</th>\n",
       "      <td>facebook_corpus_msr_495517</td>\n",
       "      <td>I appreciate the stated facts but the last one...</td>\n",
       "      <td>NAG</td>\n",
       "    </tr>\n",
       "    <tr>\n",
       "      <th>4</th>\n",
       "      <td>facebook_corpus_msr_1805455</td>\n",
       "      <td>RSS agent Mr Hazare how you are feeling now?</td>\n",
       "      <td>OAG</td>\n",
       "    </tr>\n",
       "  </tbody>\n",
       "</table>\n",
       "</div>"
      ],
      "text/plain": [
       "                            ID  \\\n",
       "0   facebook_corpus_msr_495558   \n",
       "1  facebook_corpus_msr_1561809   \n",
       "2   facebook_corpus_msr_442487   \n",
       "3   facebook_corpus_msr_495517   \n",
       "4  facebook_corpus_msr_1805455   \n",
       "\n",
       "                                             Comment Label  \n",
       "0  But if same had been given before olymic games...   NAG  \n",
       "1  Does our constitution gives power to misbehave...   CAG  \n",
       "2  automotive awards are done at the cost of spar...   NAG  \n",
       "3  I appreciate the stated facts but the last one...   NAG  \n",
       "4       RSS agent Mr Hazare how you are feeling now?   OAG  "
      ]
     },
     "execution_count": 36,
     "metadata": {},
     "output_type": "execute_result"
    }
   ],
   "source": [
    "y_p = model.predict(X_test_pad)\n",
    "y_pr = [list(i).index(max(i)) for i in y_p]\n",
    "test_data['Label'] = y_pr\n",
    "test_data['Label'].replace(0,'NAG',  inplace=True)\n",
    "test_data['Label'].replace(1,'OAG',  inplace=True)\n",
    "test_data['Label'].replace(2,'CAG',  inplace=True)\n",
    "test_data.head()"
   ]
  },
  {
   "cell_type": "code",
   "execution_count": 37,
   "metadata": {},
   "outputs": [],
   "source": [
    "test_data.to_csv('test_prediction6.csv',columns=['ID','Label'],index=False)"
   ]
  },
  {
   "cell_type": "code",
   "execution_count": null,
   "metadata": {},
   "outputs": [],
   "source": []
  },
  {
   "cell_type": "code",
   "execution_count": null,
   "metadata": {},
   "outputs": [],
   "source": []
  },
  {
   "cell_type": "code",
   "execution_count": 33,
   "metadata": {},
   "outputs": [],
   "source": [
    "from keras.utils import plot_model\n",
    "plot_model(model, to_file='model.png')"
   ]
  },
  {
   "cell_type": "code",
   "execution_count": 36,
   "metadata": {},
   "outputs": [
    {
     "data": {
      "image/svg+xml": [
       "<svg height=\"337pt\" viewBox=\"0.00 0.00 277.00 337.00\" width=\"277pt\" xmlns=\"http://www.w3.org/2000/svg\" xmlns:xlink=\"http://www.w3.org/1999/xlink\">\n",
       "<g class=\"graph\" id=\"graph0\" transform=\"scale(1 1) rotate(0) translate(4 333)\">\n",
       "<title>G</title>\n",
       "<polygon fill=\"white\" points=\"-4,4 -4,-333 273,-333 273,4 -4,4\" stroke=\"none\"/>\n",
       "<!-- 2709420242032 -->\n",
       "<g class=\"node\" id=\"node1\"><title>2709420242032</title>\n",
       "<polygon fill=\"none\" points=\"53,-219.5 53,-255.5 216,-255.5 216,-219.5 53,-219.5\" stroke=\"black\"/>\n",
       "<text font-family=\"Times New Roman,serif\" font-size=\"14.00\" text-anchor=\"middle\" x=\"134.5\" y=\"-233.8\">embedding_1: Embedding</text>\n",
       "</g>\n",
       "<!-- 2709420242928 -->\n",
       "<g class=\"node\" id=\"node2\"><title>2709420242928</title>\n",
       "<polygon fill=\"none\" points=\"0,-146.5 0,-182.5 269,-182.5 269,-146.5 0,-146.5\" stroke=\"black\"/>\n",
       "<text font-family=\"Times New Roman,serif\" font-size=\"14.00\" text-anchor=\"middle\" x=\"134.5\" y=\"-160.8\">bidirectional_1(lstm_1): Bidirectional(LSTM)</text>\n",
       "</g>\n",
       "<!-- 2709420242032&#45;&gt;2709420242928 -->\n",
       "<g class=\"edge\" id=\"edge2\"><title>2709420242032-&gt;2709420242928</title>\n",
       "<path d=\"M134.5,-219.313C134.5,-211.289 134.5,-201.547 134.5,-192.569\" fill=\"none\" stroke=\"black\"/>\n",
       "<polygon fill=\"black\" points=\"138,-192.529 134.5,-182.529 131,-192.529 138,-192.529\" stroke=\"black\"/>\n",
       "</g>\n",
       "<!-- 2709690737776 -->\n",
       "<g class=\"node\" id=\"node3\"><title>2709690737776</title>\n",
       "<polygon fill=\"none\" points=\"0,-73.5 0,-109.5 269,-109.5 269,-73.5 0,-73.5\" stroke=\"black\"/>\n",
       "<text font-family=\"Times New Roman,serif\" font-size=\"14.00\" text-anchor=\"middle\" x=\"134.5\" y=\"-87.8\">bidirectional_2(lstm_2): Bidirectional(LSTM)</text>\n",
       "</g>\n",
       "<!-- 2709420242928&#45;&gt;2709690737776 -->\n",
       "<g class=\"edge\" id=\"edge3\"><title>2709420242928-&gt;2709690737776</title>\n",
       "<path d=\"M134.5,-146.313C134.5,-138.289 134.5,-128.547 134.5,-119.569\" fill=\"none\" stroke=\"black\"/>\n",
       "<polygon fill=\"black\" points=\"138,-119.529 134.5,-109.529 131,-119.529 138,-119.529\" stroke=\"black\"/>\n",
       "</g>\n",
       "<!-- 2709420283664 -->\n",
       "<g class=\"node\" id=\"node4\"><title>2709420283664</title>\n",
       "<polygon fill=\"none\" points=\"82.5,-0.5 82.5,-36.5 186.5,-36.5 186.5,-0.5 82.5,-0.5\" stroke=\"black\"/>\n",
       "<text font-family=\"Times New Roman,serif\" font-size=\"14.00\" text-anchor=\"middle\" x=\"134.5\" y=\"-14.8\">dense_1: Dense</text>\n",
       "</g>\n",
       "<!-- 2709690737776&#45;&gt;2709420283664 -->\n",
       "<g class=\"edge\" id=\"edge4\"><title>2709690737776-&gt;2709420283664</title>\n",
       "<path d=\"M134.5,-73.3129C134.5,-65.2895 134.5,-55.5475 134.5,-46.5691\" fill=\"none\" stroke=\"black\"/>\n",
       "<polygon fill=\"black\" points=\"138,-46.5288 134.5,-36.5288 131,-46.5289 138,-46.5288\" stroke=\"black\"/>\n",
       "</g>\n",
       "<!-- 2709420242256 -->\n",
       "<g class=\"node\" id=\"node5\"><title>2709420242256</title>\n",
       "<polygon fill=\"none\" points=\"82.5,-292.5 82.5,-328.5 186.5,-328.5 186.5,-292.5 82.5,-292.5\" stroke=\"black\"/>\n",
       "<text font-family=\"Times New Roman,serif\" font-size=\"14.00\" text-anchor=\"middle\" x=\"134.5\" y=\"-306.8\">2709420242256</text>\n",
       "</g>\n",
       "<!-- 2709420242256&#45;&gt;2709420242032 -->\n",
       "<g class=\"edge\" id=\"edge1\"><title>2709420242256-&gt;2709420242032</title>\n",
       "<path d=\"M134.5,-292.313C134.5,-284.289 134.5,-274.547 134.5,-265.569\" fill=\"none\" stroke=\"black\"/>\n",
       "<polygon fill=\"black\" points=\"138,-265.529 134.5,-255.529 131,-265.529 138,-265.529\" stroke=\"black\"/>\n",
       "</g>\n",
       "</g>\n",
       "</svg>"
      ],
      "text/plain": [
       "<IPython.core.display.SVG object>"
      ]
     },
     "execution_count": 36,
     "metadata": {},
     "output_type": "execute_result"
    }
   ],
   "source": [
    "from IPython.display import SVG\n",
    "#from keras.utils import model_to_dot\n",
    "from keras.utils.vis_utils import model_to_dot\n",
    "\n",
    "SVG(model_to_dot(model).create(prog='dot', format='svg'))"
   ]
  },
  {
   "cell_type": "code",
   "execution_count": null,
   "metadata": {},
   "outputs": [],
   "source": []
  }
 ],
 "metadata": {
  "kernelspec": {
   "display_name": "Python 3",
   "language": "python",
   "name": "python3"
  },
  "language_info": {
   "codemirror_mode": {
    "name": "ipython",
    "version": 3
   },
   "file_extension": ".py",
   "mimetype": "text/x-python",
   "name": "python",
   "nbconvert_exporter": "python",
   "pygments_lexer": "ipython3",
   "version": "3.6.5"
  }
 },
 "nbformat": 4,
 "nbformat_minor": 2
}
