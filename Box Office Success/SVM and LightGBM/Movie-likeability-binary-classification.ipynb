{
 "cells": [
  {
   "cell_type": "markdown",
   "metadata": {},
   "source": [
    "# This notebook do the binary classification task using SVM and lightGBM models  \n",
    "Authored by Wen Xie"
   ]
  },
  {
   "cell_type": "code",
   "execution_count": 1,
   "metadata": {},
   "outputs": [],
   "source": [
    "import numpy as np\n",
    "import pandas as pd\n",
    "import lightgbm as lgb\n",
    "\n",
    "from sklearn.model_selection import train_test_split\n",
    "from sklearn import preprocessing\n",
    "le = preprocessing.LabelEncoder()\n",
    "from sklearn.preprocessing import OneHotEncoder"
   ]
  },
  {
   "cell_type": "code",
   "execution_count": 2,
   "metadata": {},
   "outputs": [],
   "source": [
    "mdata = pd.read_csv('mdata_im.csv')"
   ]
  },
  {
   "cell_type": "code",
   "execution_count": 8,
   "metadata": {},
   "outputs": [],
   "source": [
    "from sklearn.metrics import f1_score\n",
    "\n",
    "def lgb_f1_score(y_hat, data):\n",
    "    y_true = data.get_label()\n",
    "    y_hat = np.where(y_hat<0.5,0,1)   # scikits f1 doesn't like probabilities\n",
    "    return 'f1', f1_score(y_true, y_hat,average='weighted'), True"
   ]
  },
  {
   "cell_type": "code",
   "execution_count": 9,
   "metadata": {},
   "outputs": [],
   "source": [
    "def lgbmodel(params,X_train,lgb_train,lgb_val,early_stop,lgb_f1_score=lgb_f1_score):\n",
    "    evals_result = {}  # to record eval results for plotting\n",
    "    gbm = lgb.train(params,\n",
    "                    train_set = lgb_train,\n",
    "                    num_boost_round=2000,\n",
    "                    valid_sets = [lgb_train,lgb_val],\n",
    "                    feature_name=['f' + str(i + 1) for i in range(X_train.shape[-1])],\n",
    "                    early_stopping_rounds = early_stop,\n",
    "                    evals_result=evals_result,\n",
    "                    feval=lgb_f1_score,\n",
    "                    verbose_eval=20)\n",
    "    return gbm, evals_result"
   ]
  },
  {
   "cell_type": "markdown",
   "metadata": {},
   "source": [
    "## Metadata"
   ]
  },
  {
   "cell_type": "markdown",
   "metadata": {},
   "source": [
    "### Year"
   ]
  },
  {
   "cell_type": "code",
   "execution_count": 26,
   "metadata": {},
   "outputs": [],
   "source": [
    "from sklearn.preprocessing import OneHotEncoder\n",
    "from sklearn.svm import SVC"
   ]
  },
  {
   "cell_type": "code",
   "execution_count": 12,
   "metadata": {},
   "outputs": [],
   "source": [
    "enc = OneHotEncoder(handle_unknown='ignore')"
   ]
  },
  {
   "cell_type": "code",
   "execution_count": 21,
   "metadata": {},
   "outputs": [
    {
     "name": "stdout",
     "output_type": "stream",
     "text": [
      "X train shape:  (9724, 102)\n",
      "y train shape:  (9724,)\n",
      "X test shape:  (3039, 102)\n",
      "y test shape:  (3039,)\n",
      "X val shape:  (2432, 102)\n",
      "y val shape:  (2432,)\n"
     ]
    }
   ],
   "source": [
    "X_YR = enc.fit_transform([[i] for i in mdata['Year']]).toarray()\n",
    "y_YR = le.fit_transform(mdata['Binary success'])  #S:1,F:0\n",
    "X_train_YR, X_test_YR, y_train_YR, y_test_YR = train_test_split(X_YR, y_YR, test_size=0.2, random_state=42)\n",
    "X_train_YR, X_val_YR, y_train_YR, y_val_YR = train_test_split(X_train_YR, y_train_YR, test_size=0.2, random_state=42)\n",
    "print('X train shape: ', X_train_YR.shape)\n",
    "print('y train shape: ', y_train_YR.shape)\n",
    "print('X test shape: ', X_test_YR.shape)\n",
    "print('y test shape: ', y_test_YR.shape)\n",
    "print('X val shape: ', X_val_YR.shape)\n",
    "print('y val shape: ', y_val_YR.shape)"
   ]
  },
  {
   "cell_type": "code",
   "execution_count": 22,
   "metadata": {},
   "outputs": [],
   "source": [
    "lgb_train_YR = lgb.Dataset(X_train_YR, y_train_YR,free_raw_data=True)\n",
    "lgb_val_YR = lgb.Dataset(X_val_YR, y_val_YR, reference=lgb_train_YR,free_raw_data=True)"
   ]
  },
  {
   "cell_type": "code",
   "execution_count": 23,
   "metadata": {},
   "outputs": [],
   "source": [
    "#params = {'num_leaves': 5,'metric': ['cross_entropy'],'verbose': -1}\n",
    "params = {'boosting_type': 'gbdt',\n",
    "          'objective': 'binary',\n",
    "          'num_leaves': 10,\n",
    "          'learning_rate':0.1,\n",
    "          'verbose': -1}\n",
    "gbm_YR,_ = lgbmodel(params=params,X_train=X_train_YR,lgb_train=lgb_train_YR,lgb_val=lgb_val_YR,early_stop=20)"
   ]
  },
  {
   "cell_type": "code",
   "execution_count": 25,
   "metadata": {},
   "outputs": [
    {
     "data": {
      "text/plain": [
       "0.611397724734406"
      ]
     },
     "execution_count": 25,
     "metadata": {},
     "output_type": "execute_result"
    }
   ],
   "source": [
    "y_pred = np.where(gbm_YR.predict(X_test_YR)<0.5,0,1) \n",
    "f1_score(y_pred,y_test_YR,average='weighted')"
   ]
  },
  {
   "cell_type": "markdown",
   "metadata": {},
   "source": [
    "### svm"
   ]
  },
  {
   "cell_type": "code",
   "execution_count": 28,
   "metadata": {},
   "outputs": [
    {
     "data": {
      "text/plain": [
       "SVC(C=1.0, break_ties=False, cache_size=200, class_weight=None, coef0=0.0,\n",
       "    decision_function_shape='ovr', degree=3, gamma='scale', kernel='rbf',\n",
       "    max_iter=-1, probability=False, random_state=None, shrinking=True,\n",
       "    tol=0.001, verbose=False)"
      ]
     },
     "execution_count": 28,
     "metadata": {},
     "output_type": "execute_result"
    }
   ],
   "source": [
    "svm_YR = SVC(gamma='scale')\n",
    "svm_YR.fit(np.r_[X_train_YR,X_val_YR],np.r_[y_train_YR,y_val_YR])"
   ]
  },
  {
   "cell_type": "code",
   "execution_count": 29,
   "metadata": {},
   "outputs": [
    {
     "data": {
      "text/plain": [
       "0.6356267616613525"
      ]
     },
     "execution_count": 29,
     "metadata": {},
     "output_type": "execute_result"
    }
   ],
   "source": [
    "y_pred = svm_YR.predict(X_test_YR)\n",
    "f1_score(y_pred,y_test_YR,average='weighted')"
   ]
  },
  {
   "cell_type": "markdown",
   "metadata": {},
   "source": [
    "### runtime"
   ]
  },
  {
   "cell_type": "code",
   "execution_count": 31,
   "metadata": {},
   "outputs": [],
   "source": [
    "import re"
   ]
  },
  {
   "cell_type": "code",
   "execution_count": 32,
   "metadata": {},
   "outputs": [],
   "source": [
    "mdata['Runtime'].fillna('0 missing',inplace=True)\n",
    "mdata['Runtime']=mdata['Runtime'].apply(lambda x: ''.join(re.findall('\\d',x)))\n",
    "mdata['Runtime'].fillna(mdata['Runtime'].mean(),inplace=True)"
   ]
  },
  {
   "cell_type": "code",
   "execution_count": 33,
   "metadata": {},
   "outputs": [
    {
     "name": "stdout",
     "output_type": "stream",
     "text": [
      "X train shape:  (9724, 222)\n",
      "y train shape:  (9724,)\n",
      "X test shape:  (3039, 222)\n",
      "y test shape:  (3039,)\n",
      "X val shape:  (2432, 222)\n",
      "y val shape:  (2432,)\n"
     ]
    }
   ],
   "source": [
    "X_RT = enc.fit_transform([[i] for i in mdata['Runtime']]).toarray()\n",
    "y_RT = le.fit_transform(mdata['Binary success'])  #S:1,F:0\n",
    "X_train_RT, X_test_RT, y_train_RT, y_test_RT= train_test_split(X_RT, y_RT, test_size=0.2, random_state=42)\n",
    "X_train_RT, X_val_RT, y_train_RT, y_val_RT = train_test_split(X_train_RT, y_train_RT, test_size=0.2, random_state=42)\n",
    "print('X train shape: ', X_train_RT.shape)\n",
    "print('y train shape: ', y_train_RT.shape)\n",
    "print('X test shape: ', X_test_RT.shape)\n",
    "print('y test shape: ', y_test_RT.shape)\n",
    "print('X val shape: ', X_val_RT.shape)\n",
    "print('y val shape: ', y_val_RT.shape)"
   ]
  },
  {
   "cell_type": "code",
   "execution_count": 34,
   "metadata": {},
   "outputs": [
    {
     "name": "stdout",
     "output_type": "stream",
     "text": [
      "Training until validation scores don't improve for 20 rounds\n",
      "[20]\ttraining's binary_logloss: 0.664677\ttraining's f1: 0.632152\tvalid_1's binary_logloss: 0.667937\tvalid_1's f1: 0.636547\n",
      "[40]\ttraining's binary_logloss: 0.655833\ttraining's f1: 0.636174\tvalid_1's binary_logloss: 0.658874\tvalid_1's f1: 0.642155\n",
      "Early stopping, best iteration is:\n",
      "[26]\ttraining's binary_logloss: 0.661285\ttraining's f1: 0.634542\tvalid_1's binary_logloss: 0.664169\tvalid_1's f1: 0.64227\n"
     ]
    }
   ],
   "source": [
    "lgb_train_RT = lgb.Dataset(X_train_RT, y_train_RT,free_raw_data=True)\n",
    "lgb_val_RT = lgb.Dataset(X_val_RT, y_val_RT, reference=lgb_train_RT,free_raw_data=True)\n",
    "#params = {'num_leaves': 5,'metric': ['cross_entropy'],'verbose': -1}\n",
    "params = {'boosting_type': 'gbdt',\n",
    "          'objective': 'binary',\n",
    "          'num_leaves': 10,\n",
    "          'learning_rate':0.1,\n",
    "          'verbose': -1}\n",
    "gbm_RT,_ = lgbmodel(params=params,X_train=X_train_RT,lgb_train=lgb_train_RT,lgb_val=lgb_val_RT,early_stop=20)"
   ]
  },
  {
   "cell_type": "code",
   "execution_count": 35,
   "metadata": {},
   "outputs": [
    {
     "data": {
      "text/plain": [
       "0.6320894596612092"
      ]
     },
     "execution_count": 35,
     "metadata": {},
     "output_type": "execute_result"
    }
   ],
   "source": [
    "y_pred = np.where(gbm_RT.predict(X_test_RT)<0.5,0,1) \n",
    "f1_score(y_pred,y_test_RT,average='weighted')"
   ]
  },
  {
   "cell_type": "markdown",
   "metadata": {},
   "source": [
    "### svm"
   ]
  },
  {
   "cell_type": "code",
   "execution_count": 37,
   "metadata": {},
   "outputs": [
    {
     "data": {
      "text/plain": [
       "SVC(C=1.0, break_ties=False, cache_size=200, class_weight=None, coef0=0.0,\n",
       "    decision_function_shape='ovr', degree=3, gamma='scale', kernel='rbf',\n",
       "    max_iter=-1, probability=False, random_state=None, shrinking=True,\n",
       "    tol=0.001, verbose=False)"
      ]
     },
     "execution_count": 37,
     "metadata": {},
     "output_type": "execute_result"
    }
   ],
   "source": [
    "svm_RT = SVC(gamma='scale')\n",
    "svm_RT.fit(np.r_[X_train_RT,X_val_RT],np.r_[y_train_RT,y_val_RT])"
   ]
  },
  {
   "cell_type": "code",
   "execution_count": 38,
   "metadata": {},
   "outputs": [
    {
     "data": {
      "text/plain": [
       "0.6291125995378782"
      ]
     },
     "execution_count": 38,
     "metadata": {},
     "output_type": "execute_result"
    }
   ],
   "source": [
    "y_pred = svm_RT.predict(X_test_RT)\n",
    "f1_score(y_pred,y_test_RT,average='weighted')"
   ]
  },
  {
   "cell_type": "markdown",
   "metadata": {},
   "source": [
    "### Genre"
   ]
  },
  {
   "cell_type": "code",
   "execution_count": null,
   "metadata": {},
   "outputs": [],
   "source": [
    "mdata['Genre'].fillna('missing',inplace=True)\n",
    "X_GE = enc.fit_transform([[i] for i in mdata['Genre']]).toarray()\n",
    "y_GE = le.fit_transform(mdata['Binary success'])  #S:1,F:0\n",
    "X_train_GE, X_test_GE, y_train_GE, y_test_GE= train_test_split(X_GE, y_GE, test_size=0.2, random_state=42)\n",
    "X_train_GE, X_val_GE, y_train_GE, y_val_GE = train_test_split(X_train_GE, y_train_GE, test_size=0.2, random_state=42)\n",
    "print('X train shape: ', X_train_GE.shape)\n",
    "print('y train shape: ', y_train_GE.shape)\n",
    "print('X test shape: ', X_test_GE.shape)\n",
    "print('y test shape: ', y_test_GE.shape)\n",
    "print('X val shape: ', X_val_GE.shape)\n",
    "print('y val shape: ', y_val_GE.shape)\n",
    "\n",
    "lgb_train_GE = lgb.Dataset(X_train_GE, y_train_GE,free_raw_data=True)\n",
    "lgb_val_GE = lgb.Dataset(X_val_GE, y_val_GE, reference=lgb_train_GE,free_raw_data=True)\n",
    "\n",
    "#params = {'num_leaves': 5,'metric': ['cross_entropy'],'verbose': -1}\n",
    "params = {'boosting_type': 'gbdt',\n",
    "          'objective': 'binary',\n",
    "          'num_leaves': 10,\n",
    "          'learning_rate':0.1,\n",
    "          'verbose': -1}\n",
    "gbm_GE,_ = lgbmodel(params=params,X_train=X_train_GE,lgb_train=lgb_train_GE,lgb_val=lgb_val_GE,early_stop=20)"
   ]
  },
  {
   "cell_type": "code",
   "execution_count": null,
   "metadata": {},
   "outputs": [],
   "source": [
    "y_pred = np.where(gbm_GE.predict(X_test_GE)<0.5,0,1) \n",
    "f1_score(y_pred,y_test_GE,average='weighted')"
   ]
  },
  {
   "cell_type": "markdown",
   "metadata": {},
   "source": [
    "### svm"
   ]
  },
  {
   "cell_type": "code",
   "execution_count": null,
   "metadata": {},
   "outputs": [],
   "source": [
    "svm_GE = SVC(gamma='scale')\n",
    "svm_GE.fit(np.r_[X_train_GE,X_val_GE],np.r_[y_train_GE,y_val_GE])\n",
    "y_pred = svm_GE.predict(X_test_GE)\n",
    "f1_score(y_pred,y_test_GE,average='weighted')"
   ]
  },
  {
   "cell_type": "code",
   "execution_count": null,
   "metadata": {},
   "outputs": [],
   "source": []
  },
  {
   "cell_type": "code",
   "execution_count": null,
   "metadata": {},
   "outputs": [],
   "source": []
  },
  {
   "cell_type": "markdown",
   "metadata": {},
   "source": [
    "# 1, NRC-word emotion"
   ]
  },
  {
   "cell_type": "code",
   "execution_count": 39,
   "metadata": {},
   "outputs": [],
   "source": [
    "emolex = pd.read_csv('fea_emolex.csv')\n",
    "train_NRC = pd.merge(emolex,mdata,how='right',left_on='ID',right_on='imdbID')"
   ]
  },
  {
   "cell_type": "code",
   "execution_count": 40,
   "metadata": {},
   "outputs": [
    {
     "name": "stdout",
     "output_type": "stream",
     "text": [
      "X train shape:  (9724, 50)\n",
      "y train shape:  (9724,)\n",
      "X test shape:  (3039, 50)\n",
      "y test shape:  (3039,)\n",
      "X val shape:  (2432, 50)\n",
      "y val shape:  (2432,)\n"
     ]
    }
   ],
   "source": [
    "X_NRC = train_NRC.iloc[:,2:52]\n",
    "y_NRC = le.fit_transform(train_NRC['Binary success'])  #S:1,F:0\n",
    "X_train_NRC, X_test_NRC, y_train_NRC, y_test_NRC = train_test_split(X_NRC, y_NRC, test_size=0.2, random_state=42)\n",
    "X_train_NRC, X_val_NRC, y_train_NRC, y_val_NRC = train_test_split(X_train_NRC, y_train_NRC, test_size=0.2, random_state=42)\n",
    "print('X train shape: ', X_train_NRC.shape)\n",
    "print('y train shape: ', y_train_NRC.shape)\n",
    "print('X test shape: ', X_test_NRC.shape)\n",
    "print('y test shape: ', y_test_NRC.shape)\n",
    "print('X val shape: ', X_val_NRC.shape)\n",
    "print('y val shape: ', y_val_NRC.shape)"
   ]
  },
  {
   "cell_type": "markdown",
   "metadata": {},
   "source": [
    "### Create Dataset object for LightGBM"
   ]
  },
  {
   "cell_type": "code",
   "execution_count": 7,
   "metadata": {},
   "outputs": [],
   "source": [
    "lgb_train_NRC = lgb.Dataset(X_train_NRC, y_train_NRC,free_raw_data=True)\n",
    "lgb_val_NRC = lgb.Dataset(X_val_NRC, y_val_NRC, reference=lgb_train_NRC,free_raw_data=True)"
   ]
  },
  {
   "cell_type": "code",
   "execution_count": 8,
   "metadata": {},
   "outputs": [],
   "source": [
    "#params = {'num_leaves': 5,'metric': ['cross_entropy'],'verbose': -1}\n",
    "params = {'boosting_type': 'gbdt',\n",
    "          'objective': 'binary',\n",
    "          'num_leaves': 10,\n",
    "          'learning_rate':0.1,\n",
    "          'verbose': -1}"
   ]
  },
  {
   "cell_type": "code",
   "execution_count": 9,
   "metadata": {},
   "outputs": [
    {
     "name": "stdout",
     "output_type": "stream",
     "text": [
      "Training until validation scores don't improve for 20 rounds\n",
      "[20]\ttraining's binary_logloss: 0.643999\ttraining's f1: 0.635092\tvalid_1's binary_logloss: 0.667511\tvalid_1's f1: 0.571288\n",
      "[40]\ttraining's binary_logloss: 0.624449\ttraining's f1: 0.65814\tvalid_1's binary_logloss: 0.662793\tvalid_1's f1: 0.588569\n",
      "[60]\ttraining's binary_logloss: 0.609687\ttraining's f1: 0.672753\tvalid_1's binary_logloss: 0.662083\tvalid_1's f1: 0.588152\n",
      "[80]\ttraining's binary_logloss: 0.595841\ttraining's f1: 0.690971\tvalid_1's binary_logloss: 0.660797\tvalid_1's f1: 0.596326\n",
      "[100]\ttraining's binary_logloss: 0.583015\ttraining's f1: 0.70414\tvalid_1's binary_logloss: 0.660218\tvalid_1's f1: 0.598493\n",
      "Early stopping, best iteration is:\n",
      "[90]\ttraining's binary_logloss: 0.588936\ttraining's f1: 0.698449\tvalid_1's binary_logloss: 0.660597\tvalid_1's f1: 0.600621\n"
     ]
    }
   ],
   "source": [
    "gbm_NRC,_ = lgbmodel(params=params,X_train=X_train_NRC,lgb_train=lgb_train_NRC,lgb_val=lgb_val_NRC,early_stop=20)"
   ]
  },
  {
   "cell_type": "markdown",
   "metadata": {},
   "source": [
    "### Prediction"
   ]
  },
  {
   "cell_type": "code",
   "execution_count": 10,
   "metadata": {},
   "outputs": [
    {
     "data": {
      "text/plain": [
       "0.6030982154852449"
      ]
     },
     "execution_count": 10,
     "metadata": {},
     "output_type": "execute_result"
    }
   ],
   "source": [
    "y_pred = np.where(gbm_NRC.predict(X_test_NRC)<0.5,0,1) \n",
    "f1_score(y_pred,y_test_NRC,average='weighted')"
   ]
  },
  {
   "cell_type": "markdown",
   "metadata": {},
   "source": [
    "### SVM"
   ]
  },
  {
   "cell_type": "code",
   "execution_count": 94,
   "metadata": {},
   "outputs": [
    {
     "data": {
      "text/plain": [
       "SVC(C=1.0, break_ties=False, cache_size=200, class_weight=None, coef0=0.0,\n",
       "    decision_function_shape='ovr', degree=3, gamma='auto', kernel='rbf',\n",
       "    max_iter=-1, probability=False, random_state=None, shrinking=True,\n",
       "    tol=0.001, verbose=False)"
      ]
     },
     "execution_count": 94,
     "metadata": {},
     "output_type": "execute_result"
    }
   ],
   "source": [
    "from sklearn.svm import SVC\n",
    "svm_NRC = SVC(gamma='auto')\n",
    "svm_NRC.fit(np.r_[X_train_NRC,X_val_NRC],np.r_[y_train_NRC,y_val_NRC])"
   ]
  },
  {
   "cell_type": "code",
   "execution_count": 95,
   "metadata": {},
   "outputs": [
    {
     "data": {
      "text/plain": [
       "0.6844065128813634"
      ]
     },
     "execution_count": 95,
     "metadata": {},
     "output_type": "execute_result"
    }
   ],
   "source": [
    "y_pred = svm_NRC.predict(X_test_NRC)\n",
    "f1_score(y_pred,y_test_NRC,average='weighted')"
   ]
  },
  {
   "cell_type": "code",
   "execution_count": 96,
   "metadata": {},
   "outputs": [
    {
     "data": {
      "text/plain": [
       "array([0, 0, 0, 0, 0, 0, 0, 0, 0, 0, 0, 0, 0, 0, 0, 0, 0, 0, 0, 0])"
      ]
     },
     "execution_count": 96,
     "metadata": {},
     "output_type": "execute_result"
    }
   ],
   "source": [
    "y_pred[0:20] "
   ]
  },
  {
   "cell_type": "code",
   "execution_count": 97,
   "metadata": {},
   "outputs": [
    {
     "data": {
      "text/plain": [
       "array([0, 0, 1, 1, 0, 0, 0, 1, 0, 0, 0, 0, 1, 0, 0, 1, 0, 1, 0, 1])"
      ]
     },
     "execution_count": 97,
     "metadata": {},
     "output_type": "execute_result"
    }
   ],
   "source": [
    "y_test_NRC[0:20]"
   ]
  },
  {
   "cell_type": "markdown",
   "metadata": {},
   "source": [
    "# 2, Poster saliency"
   ]
  },
  {
   "cell_type": "code",
   "execution_count": 41,
   "metadata": {},
   "outputs": [],
   "source": [
    "from PIL import Image\n",
    "import matplotlib.pyplot as plt"
   ]
  },
  {
   "cell_type": "code",
   "execution_count": 42,
   "metadata": {},
   "outputs": [],
   "source": [
    "X_POS = []\n",
    "for i in mdata['imdbID'].values:\n",
    "    im = np.array(Image.open('../imsaliency/'+i+'.jpg'))\n",
    "    X_POS.append(im)\n",
    "\n",
    "#reshape\n",
    "X_POS = np.array(X_POS).reshape(len(mdata),-1)"
   ]
  },
  {
   "cell_type": "code",
   "execution_count": 43,
   "metadata": {},
   "outputs": [
    {
     "data": {
      "image/png": "[encoded data removed]",
      "text/plain": [
       "<Figure size 432x288 with 1 Axes>"
      ]
     },
     "metadata": {
      "needs_background": "light"
     },
     "output_type": "display_data"
    }
   ],
   "source": [
    "plt.imshow(X_POS[0].reshape(40,30,3))\n",
    "plt.show()"
   ]
  },
  {
   "cell_type": "code",
   "execution_count": 14,
   "metadata": {},
   "outputs": [
    {
     "data": {
      "text/plain": [
       "'\\nfrom sklearn.manifold import TSNE\\nfrom sklearn.decomposition import PCA\\nX_POS_em = PCA(n_components=1000).fit_transform(X_POS)\\n'"
      ]
     },
     "execution_count": 14,
     "metadata": {},
     "output_type": "execute_result"
    }
   ],
   "source": [
    "'''\n",
    "from sklearn.manifold import TSNE\n",
    "from sklearn.decomposition import PCA\n",
    "X_POS_em = PCA(n_components=1000).fit_transform(X_POS)\n",
    "'''"
   ]
  },
  {
   "cell_type": "code",
   "execution_count": 44,
   "metadata": {},
   "outputs": [
    {
     "name": "stdout",
     "output_type": "stream",
     "text": [
      "X train shape:  (9724, 3600)\n",
      "y train shape:  (9724,)\n",
      "X test shape:  (3039, 3600)\n",
      "y test shape:  (3039,)\n",
      "X val shape:  (2432, 3600)\n",
      "y val shape:  (2432,)\n"
     ]
    }
   ],
   "source": [
    "y_POS = le.fit_transform(mdata['Binary success'])  #S:1,F:0\n",
    "X_train_POS, X_test_POS, y_train_POS, y_test_POS = train_test_split(X_POS, y_POS, test_size=0.2, random_state=42)\n",
    "X_train_POS, X_val_POS, y_train_POS, y_val_POS = train_test_split(X_train_POS, y_train_POS, test_size=0.2, random_state=42)\n",
    "print('X train shape: ', X_train_POS.shape)\n",
    "print('y train shape: ', y_train_POS.shape)\n",
    "print('X test shape: ', X_test_POS.shape)\n",
    "print('y test shape: ', y_test_POS.shape)\n",
    "print('X val shape: ', X_val_POS.shape)\n",
    "print('y val shape: ', y_val_POS.shape)"
   ]
  },
  {
   "cell_type": "code",
   "execution_count": 16,
   "metadata": {},
   "outputs": [],
   "source": [
    "lgb_train_POS = lgb.Dataset(X_train_POS, y_train_POS,free_raw_data=True)\n",
    "lgb_val_POS = lgb.Dataset(X_val_POS, y_val_POS, reference=lgb_train_POS,free_raw_data=True)"
   ]
  },
  {
   "cell_type": "code",
   "execution_count": 17,
   "metadata": {},
   "outputs": [],
   "source": [
    "#params = {'num_leaves': 5,'metric': ['cross_entropy'],'verbose': -1}\n",
    "params = {'boosting_type': 'gbdt',\n",
    "          'objective': 'binary',\n",
    "          'num_leaves': 10,\n",
    "          'learning_rate':0.1,\n",
    "          'verbose': -1}"
   ]
  },
  {
   "cell_type": "code",
   "execution_count": 18,
   "metadata": {},
   "outputs": [
    {
     "name": "stdout",
     "output_type": "stream",
     "text": [
      "Training until validation scores don't improve for 20 rounds\n",
      "[20]\ttraining's binary_logloss: 0.648739\ttraining's f1: 0.629662\tvalid_1's binary_logloss: 0.680904\tvalid_1's f1: 0.52878\n",
      "Early stopping, best iteration is:\n",
      "[15]\ttraining's binary_logloss: 0.65676\ttraining's f1: 0.610537\tvalid_1's binary_logloss: 0.68064\tvalid_1's f1: 0.533071\n"
     ]
    }
   ],
   "source": [
    "gbm_POS,_ = lgbmodel(params=params,X_train=X_train_POS,lgb_train=lgb_train_POS,lgb_val=lgb_val_POS,early_stop=20)"
   ]
  },
  {
   "cell_type": "markdown",
   "metadata": {},
   "source": [
    "### prediction"
   ]
  },
  {
   "cell_type": "code",
   "execution_count": 19,
   "metadata": {},
   "outputs": [
    {
     "data": {
      "text/plain": [
       "0.5927534676519765"
      ]
     },
     "execution_count": 19,
     "metadata": {},
     "output_type": "execute_result"
    }
   ],
   "source": [
    "y_pred = np.where(gbm_POS.predict(X_test_POS)<0.5,0,1) \n",
    "f1_score(y_pred,y_test_POS,average='weighted')"
   ]
  },
  {
   "cell_type": "markdown",
   "metadata": {},
   "source": [
    "### SVM"
   ]
  },
  {
   "cell_type": "code",
   "execution_count": 98,
   "metadata": {},
   "outputs": [
    {
     "data": {
      "text/plain": [
       "SVC(C=1.0, break_ties=False, cache_size=200, class_weight=None, coef0=0.0,\n",
       "    decision_function_shape='ovr', degree=3, gamma='auto', kernel='rbf',\n",
       "    max_iter=-1, probability=False, random_state=None, shrinking=True,\n",
       "    tol=0.001, verbose=False)"
      ]
     },
     "execution_count": 98,
     "metadata": {},
     "output_type": "execute_result"
    }
   ],
   "source": [
    "svm_POS = SVC(gamma='auto')\n",
    "svm_POS.fit(np.r_[X_train_POS,X_val_POS],np.r_[y_train_POS,y_val_POS])"
   ]
  },
  {
   "cell_type": "code",
   "execution_count": 99,
   "metadata": {},
   "outputs": [
    {
     "data": {
      "text/plain": [
       "0.6908544844907242"
      ]
     },
     "execution_count": 99,
     "metadata": {},
     "output_type": "execute_result"
    }
   ],
   "source": [
    "y_pred = svm_POS.predict(X_test_POS)\n",
    "f1_score(y_pred,y_test_POS,average='weighted')"
   ]
  },
  {
   "cell_type": "markdown",
   "metadata": {},
   "source": [
    "# 3, Bert sentence embedding"
   ]
  },
  {
   "cell_type": "code",
   "execution_count": 45,
   "metadata": {},
   "outputs": [],
   "source": [
    "sents_em = np.loadtxt('bert-sents-em15195_200.txt')"
   ]
  },
  {
   "cell_type": "code",
   "execution_count": 46,
   "metadata": {},
   "outputs": [
    {
     "name": "stdout",
     "output_type": "stream",
     "text": [
      "X train shape:  (9724, 200)\n",
      "y train shape:  (9724,)\n",
      "X test shape:  (3039, 200)\n",
      "y test shape:  (3039,)\n",
      "X val shape:  (2432, 200)\n",
      "y val shape:  (2432,)\n"
     ]
    }
   ],
   "source": [
    "y_SEM = le.fit_transform(mdata['Binary success'])  #S:1,F:0\n",
    "X_train_SEM, X_test_SEM, y_train_SEM, y_test_SEM = train_test_split(sents_em, y_SEM, test_size=0.2, random_state=42)\n",
    "X_train_SEM, X_val_SEM, y_train_SEM, y_val_SEM = train_test_split(X_train_SEM, y_train_SEM, test_size=0.2, random_state=42)\n",
    "print('X train shape: ', X_train_SEM.shape)\n",
    "print('y train shape: ', y_train_SEM.shape)\n",
    "print('X test shape: ', X_test_SEM.shape)\n",
    "print('y test shape: ', y_test_SEM.shape)\n",
    "print('X val shape: ', X_val_SEM.shape)\n",
    "print('y val shape: ', y_val_SEM.shape)"
   ]
  },
  {
   "cell_type": "code",
   "execution_count": 66,
   "metadata": {},
   "outputs": [],
   "source": [
    "lgb_train_SEM = lgb.Dataset(X_train_SEM, y_train_SEM,free_raw_data=False)\n",
    "lgb_val_SEM = lgb.Dataset(X_val_SEM, y_val_SEM, reference=lgb_train_SEM,free_raw_data=False)"
   ]
  },
  {
   "cell_type": "code",
   "execution_count": 67,
   "metadata": {},
   "outputs": [],
   "source": [
    "#params = {'num_leaves': 5,'metric': ['cross_entropy'],'verbose': -1}\n",
    "params = {'boosting_type': 'gbdt',\n",
    "          'objective': 'binary',\n",
    "          'num_leaves': 10,\n",
    "          'learning_rate':0.1,\n",
    "          'verbose': -1}"
   ]
  },
  {
   "cell_type": "code",
   "execution_count": 68,
   "metadata": {},
   "outputs": [
    {
     "name": "stdout",
     "output_type": "stream",
     "text": [
      "Training until validation scores don't improve for 20 rounds\n",
      "[20]\ttraining's binary_logloss: 0.655378\ttraining's f1: 0.620958\tvalid_1's binary_logloss: 0.680791\tvalid_1's f1: 0.530354\n",
      "[40]\ttraining's binary_logloss: 0.628197\ttraining's f1: 0.690409\tvalid_1's binary_logloss: 0.673323\tvalid_1's f1: 0.562875\n",
      "[60]\ttraining's binary_logloss: 0.605051\ttraining's f1: 0.733387\tvalid_1's binary_logloss: 0.670492\tvalid_1's f1: 0.58053\n",
      "[80]\ttraining's binary_logloss: 0.583396\ttraining's f1: 0.773723\tvalid_1's binary_logloss: 0.668523\tvalid_1's f1: 0.585024\n",
      "Early stopping, best iteration is:\n",
      "[75]\ttraining's binary_logloss: 0.588695\ttraining's f1: 0.764408\tvalid_1's binary_logloss: 0.668314\tvalid_1's f1: 0.583817\n"
     ]
    }
   ],
   "source": [
    "gbm_SEM,_ = lgbmodel(params=params,X_train=X_train_SEM,lgb_train=lgb_train_SEM,lgb_val=lgb_val_SEM,early_stop=20)"
   ]
  },
  {
   "cell_type": "markdown",
   "metadata": {},
   "source": [
    "### prediction"
   ]
  },
  {
   "cell_type": "code",
   "execution_count": 69,
   "metadata": {},
   "outputs": [
    {
     "data": {
      "text/plain": [
       "0.5960491784840407"
      ]
     },
     "execution_count": 69,
     "metadata": {},
     "output_type": "execute_result"
    }
   ],
   "source": [
    "y_pred = np.where(gbm_SEM.predict(X_test_SEM)<0.5,0,1) \n",
    "f1_score(y_pred,y_test_SEM,average='weighted')"
   ]
  },
  {
   "cell_type": "markdown",
   "metadata": {},
   "source": [
    "### SVM"
   ]
  },
  {
   "cell_type": "code",
   "execution_count": 102,
   "metadata": {},
   "outputs": [],
   "source": [
    "svm_SEM = SVC(gamma='auto')"
   ]
  },
  {
   "cell_type": "code",
   "execution_count": 103,
   "metadata": {},
   "outputs": [
    {
     "data": {
      "text/plain": [
       "SVC(C=1.0, break_ties=False, cache_size=200, class_weight=None, coef0=0.0,\n",
       "    decision_function_shape='ovr', degree=3, gamma='auto', kernel='rbf',\n",
       "    max_iter=-1, probability=False, random_state=None, shrinking=True,\n",
       "    tol=0.001, verbose=False)"
      ]
     },
     "execution_count": 103,
     "metadata": {},
     "output_type": "execute_result"
    }
   ],
   "source": [
    "svm_SEM.fit(np.r_[X_train_SEM,X_val_SEM],np.r_[y_train_SEM,y_val_SEM])"
   ]
  },
  {
   "cell_type": "code",
   "execution_count": 104,
   "metadata": {},
   "outputs": [
    {
     "data": {
      "text/plain": [
       "0.6144448068392628"
      ]
     },
     "execution_count": 104,
     "metadata": {},
     "output_type": "execute_result"
    }
   ],
   "source": [
    "y_pred = svm_SEM.predict(X_test_SEM)\n",
    "f1_score(y_pred,y_test_SEM,average='weighted')"
   ]
  },
  {
   "cell_type": "markdown",
   "metadata": {},
   "source": [
    "## 4, Writing style"
   ]
  },
  {
   "cell_type": "code",
   "execution_count": 47,
   "metadata": {},
   "outputs": [],
   "source": [
    "ws = pd.read_csv('fea_writing.csv')"
   ]
  },
  {
   "cell_type": "code",
   "execution_count": 48,
   "metadata": {},
   "outputs": [],
   "source": [
    "train_ws = pd.merge(ws,mdata,how='right',left_on='imdbID',right_on='imdbID')"
   ]
  },
  {
   "cell_type": "code",
   "execution_count": 33,
   "metadata": {},
   "outputs": [
    {
     "data": {
      "text/plain": [
       "Index(['#word', '#char', '#uppe', '#titl', '#exlc', '#ques', 'av_l_wor',\n",
       "       'av_l_sen', 'av_wor_p_sen', 'lex_div', 'imdbID', 'Plot', 'Title',\n",
       "       'Ratings', 'DVD', 'Production', 'Actors', 'Type', 'imdbVotes',\n",
       "       'Website', 'Poster', 'Director', 'Released', 'Awards', 'Genre',\n",
       "       'imdbRating', 'Language', 'Country', 'BoxOffice', 'Runtime',\n",
       "       'Metascore', 'Response', 'Year', 'Multi-class success',\n",
       "       'Binary success', 'name', 'file'],\n",
       "      dtype='object')"
      ]
     },
     "execution_count": 33,
     "metadata": {},
     "output_type": "execute_result"
    }
   ],
   "source": [
    "train_ws.columns"
   ]
  },
  {
   "cell_type": "code",
   "execution_count": 49,
   "metadata": {},
   "outputs": [
    {
     "name": "stdout",
     "output_type": "stream",
     "text": [
      "X train shape:  (9724, 10)\n",
      "y train shape:  (9724,)\n",
      "X test shape:  (3039, 10)\n",
      "y test shape:  (3039,)\n",
      "X val shape:  (2432, 10)\n",
      "y val shape:  (2432,)\n"
     ]
    }
   ],
   "source": [
    "X_WS = train_ws.iloc[:,0:10]\n",
    "y_WS  = le.fit_transform(train_ws['Binary success'])  #S:1,F:0\n",
    "X_train_WS , X_test_WS , y_train_WS , y_test_WS  = train_test_split(X_WS , y_WS , test_size=0.2, random_state=42)\n",
    "X_train_WS , X_val_WS , y_train_WS , y_val_WS  = train_test_split(X_train_WS , y_train_WS , test_size=0.2, random_state=42)\n",
    "print('X train shape: ', X_train_WS.shape)\n",
    "print('y train shape: ', y_train_WS.shape)\n",
    "print('X test shape: ', X_test_WS.shape)\n",
    "print('y test shape: ', y_test_WS.shape)\n",
    "print('X val shape: ', X_val_WS.shape)\n",
    "print('y val shape: ', y_val_WS.shape)"
   ]
  },
  {
   "cell_type": "code",
   "execution_count": 35,
   "metadata": {},
   "outputs": [],
   "source": [
    "lgb_train_WS = lgb.Dataset(X_train_WS, y_train_WS,free_raw_data=True)\n",
    "lgb_val_WS= lgb.Dataset(X_val_WS, y_val_WS, reference=lgb_train_WS,free_raw_data=True)"
   ]
  },
  {
   "cell_type": "code",
   "execution_count": 36,
   "metadata": {},
   "outputs": [],
   "source": [
    "#params = {'num_leaves': 5,'metric': ['cross_entropy'],'verbose': -1}\n",
    "params = {'boosting_type': 'gbdt',\n",
    "          'objective': 'binary',\n",
    "          'num_leaves': 10,\n",
    "          'learning_rate':0.1,\n",
    "          'verbose': -1}"
   ]
  },
  {
   "cell_type": "code",
   "execution_count": 37,
   "metadata": {},
   "outputs": [
    {
     "name": "stdout",
     "output_type": "stream",
     "text": [
      "Training until validation scores don't improve for 20 rounds\n",
      "[20]\ttraining's binary_logloss: 0.677839\ttraining's f1: 0.488036\tvalid_1's binary_logloss: 0.693386\tvalid_1's f1: 0.423896\n",
      "Early stopping, best iteration is:\n",
      "[1]\ttraining's binary_logloss: 0.689661\ttraining's f1: 0.371826\tvalid_1's binary_logloss: 0.689948\tvalid_1's f1: 0.379044\n"
     ]
    }
   ],
   "source": [
    "gbm_WS,_ = lgbmodel(params=params,X_train=X_train_WS,lgb_train=lgb_train_WS,lgb_val=lgb_val_WS,early_stop=20)"
   ]
  },
  {
   "cell_type": "markdown",
   "metadata": {},
   "source": [
    "### prediction"
   ]
  },
  {
   "cell_type": "code",
   "execution_count": 38,
   "metadata": {},
   "outputs": [
    {
     "data": {
      "text/plain": [
       "0.6909325866896403"
      ]
     },
     "execution_count": 38,
     "metadata": {},
     "output_type": "execute_result"
    }
   ],
   "source": [
    "y_pred = np.where(gbm_WS.predict(X_test_WS)<0.5,0,1) \n",
    "f1_score(y_pred,y_test_WS,average='weighted')"
   ]
  },
  {
   "cell_type": "markdown",
   "metadata": {},
   "source": [
    "### svm"
   ]
  },
  {
   "cell_type": "code",
   "execution_count": 106,
   "metadata": {},
   "outputs": [],
   "source": [
    "svm_WS = SVC(gamma='auto')"
   ]
  },
  {
   "cell_type": "code",
   "execution_count": 107,
   "metadata": {},
   "outputs": [
    {
     "data": {
      "text/plain": [
       "SVC(C=1.0, break_ties=False, cache_size=200, class_weight=None, coef0=0.0,\n",
       "    decision_function_shape='ovr', degree=3, gamma='auto', kernel='rbf',\n",
       "    max_iter=-1, probability=False, random_state=None, shrinking=True,\n",
       "    tol=0.001, verbose=False)"
      ]
     },
     "execution_count": 107,
     "metadata": {},
     "output_type": "execute_result"
    }
   ],
   "source": [
    "svm_WS.fit(np.r_[X_train_WS,X_val_WS],np.r_[y_train_WS,y_val_WS])"
   ]
  },
  {
   "cell_type": "code",
   "execution_count": 108,
   "metadata": {},
   "outputs": [
    {
     "data": {
      "text/plain": [
       "0.6898369586342017"
      ]
     },
     "execution_count": 108,
     "metadata": {},
     "output_type": "execute_result"
    }
   ],
   "source": [
    "y_pred = svm_WS.predict(X_test_WS)\n",
    "f1_score(y_pred,y_test_WS,average='weighted')"
   ]
  },
  {
   "cell_type": "markdown",
   "metadata": {},
   "source": [
    "## All feature together"
   ]
  },
  {
   "cell_type": "code",
   "execution_count": 50,
   "metadata": {},
   "outputs": [],
   "source": [
    "X = np.c_[train_NRC.iloc[:,2:52],X_POS,sents_em,train_ws.iloc[:,0:10],X_YR,X_RT]"
   ]
  },
  {
   "cell_type": "code",
   "execution_count": 51,
   "metadata": {},
   "outputs": [
    {
     "name": "stdout",
     "output_type": "stream",
     "text": [
      "X train shape:  (9724, 4184)\n",
      "y train shape:  (9724,)\n",
      "X test shape:  (3039, 4184)\n",
      "y test shape:  (3039,)\n",
      "X val shape:  (2432, 4184)\n",
      "y val shape:  (2432,)\n"
     ]
    }
   ],
   "source": [
    "y  = le.fit_transform(mdata['Binary success'])  #S:1,F:0\n",
    "X_train , X_test , y_train , y_test  = train_test_split(X, y, test_size=0.2, random_state=42)\n",
    "X_train , X_val , y_train , y_val  = train_test_split(X_train, y_train, test_size=0.2, random_state=42)\n",
    "print('X train shape: ', X_train.shape)\n",
    "print('y train shape: ', y_train.shape)\n",
    "print('X test shape: ', X_test.shape)\n",
    "print('y test shape: ', y_test.shape)\n",
    "print('X val shape: ', X_val.shape)\n",
    "print('y val shape: ', y_val.shape)"
   ]
  },
  {
   "cell_type": "code",
   "execution_count": 111,
   "metadata": {},
   "outputs": [],
   "source": [
    "lgb_train = lgb.Dataset(X_train, y_train,free_raw_data=False)\n",
    "lgb_val= lgb.Dataset(X_val, y_val, reference=lgb_train,free_raw_data=False)"
   ]
  },
  {
   "cell_type": "code",
   "execution_count": 114,
   "metadata": {},
   "outputs": [],
   "source": [
    "#params = {'num_leaves': 5,'metric': ['cross_entropy'],'verbose': -1}\n",
    "params = {'boosting_type': 'gbdt',\n",
    "          'objective': 'binary',\n",
    "          'num_leaves': 10,\n",
    "          'learning_rate':0.1,\n",
    "          'verbose': -1}"
   ]
  },
  {
   "cell_type": "code",
   "execution_count": 115,
   "metadata": {},
   "outputs": [
    {
     "name": "stdout",
     "output_type": "stream",
     "text": [
      "Training until validation scores don't improve for 20 rounds\n",
      "[20]\ttraining's binary_logloss: 0.644274\ttraining's f1: 0.648535\tvalid_1's binary_logloss: 0.676134\tvalid_1's f1: 0.557712\n",
      "[40]\ttraining's binary_logloss: 0.612698\ttraining's f1: 0.706798\tvalid_1's binary_logloss: 0.673656\tvalid_1's f1: 0.568803\n",
      "[60]\ttraining's binary_logloss: 0.58572\ttraining's f1: 0.750644\tvalid_1's binary_logloss: 0.672873\tvalid_1's f1: 0.579386\n",
      "Early stopping, best iteration is:\n",
      "[48]\ttraining's binary_logloss: 0.601462\ttraining's f1: 0.723223\tvalid_1's binary_logloss: 0.672519\tvalid_1's f1: 0.577461\n"
     ]
    }
   ],
   "source": [
    "gbm,_ = lgbmodel(params=params,X_train=X_train,lgb_train=lgb_train,lgb_val=lgb_val,early_stop=20)"
   ]
  },
  {
   "cell_type": "markdown",
   "metadata": {},
   "source": [
    "### prediction"
   ]
  },
  {
   "cell_type": "code",
   "execution_count": 116,
   "metadata": {},
   "outputs": [
    {
     "data": {
      "text/plain": [
       "0.5941972465385874"
      ]
     },
     "execution_count": 116,
     "metadata": {},
     "output_type": "execute_result"
    }
   ],
   "source": [
    "y_pred = np.where(gbm.predict(X_test)<0.5,0,1) \n",
    "f1_score(y_pred,y_test,average='weighted')"
   ]
  },
  {
   "cell_type": "markdown",
   "metadata": {},
   "source": [
    "### svm"
   ]
  },
  {
   "cell_type": "code",
   "execution_count": 117,
   "metadata": {},
   "outputs": [
    {
     "data": {
      "text/plain": [
       "SVC(C=1.0, break_ties=False, cache_size=200, class_weight=None, coef0=0.0,\n",
       "    decision_function_shape='ovr', degree=3, gamma='auto', kernel='rbf',\n",
       "    max_iter=-1, probability=False, random_state=None, shrinking=True,\n",
       "    tol=0.001, verbose=False)"
      ]
     },
     "execution_count": 117,
     "metadata": {},
     "output_type": "execute_result"
    }
   ],
   "source": [
    "svm = SVC(gamma='auto')\n",
    "svm.fit(np.r_[X_train,X_val],np.r_[y_train,y_val])"
   ]
  },
  {
   "cell_type": "code",
   "execution_count": 118,
   "metadata": {},
   "outputs": [
    {
     "data": {
      "text/plain": [
       "0.6909325866896403"
      ]
     },
     "execution_count": 118,
     "metadata": {},
     "output_type": "execute_result"
    }
   ],
   "source": [
    "y_pred = svm.predict(X_test)\n",
    "f1_score(y_pred,y_test,average='weighted')"
   ]
  },
  {
   "cell_type": "markdown",
   "metadata": {},
   "source": [
    "## Finetuning"
   ]
  },
  {
   "cell_type": "code",
   "execution_count": 55,
   "metadata": {},
   "outputs": [],
   "source": [
    "from sklearn.model_selection import GridSearchCV"
   ]
  },
  {
   "cell_type": "markdown",
   "metadata": {},
   "source": [
    "### lightgbm finetune"
   ]
  },
  {
   "cell_type": "code",
   "execution_count": null,
   "metadata": {},
   "outputs": [],
   "source": []
  },
  {
   "cell_type": "markdown",
   "metadata": {},
   "source": [
    "### svm finetune"
   ]
  },
  {
   "cell_type": "code",
   "execution_count": null,
   "metadata": {},
   "outputs": [
    {
     "name": "stdout",
     "output_type": "stream",
     "text": [
      "Fitting 3 folds for each of 9 candidates, totalling 27 fits\n",
      "[CV] C=0.1, gamma=1, kernel=rbf ......................................\n"
     ]
    },
    {
     "name": "stderr",
     "output_type": "stream",
     "text": [
      "[Parallel(n_jobs=1)]: Using backend SequentialBackend with 1 concurrent workers.\n"
     ]
    },
    {
     "name": "stdout",
     "output_type": "stream",
     "text": [
      "[CV] .......... C=0.1, gamma=1, kernel=rbf, score=0.373, total= 9.0min\n",
      "[CV] C=0.1, gamma=1, kernel=rbf ......................................\n"
     ]
    },
    {
     "name": "stderr",
     "output_type": "stream",
     "text": [
      "[Parallel(n_jobs=1)]: Done   1 out of   1 | elapsed:  9.0min remaining:    0.0s\n"
     ]
    },
    {
     "name": "stdout",
     "output_type": "stream",
     "text": [
      "[CV] .......... C=0.1, gamma=1, kernel=rbf, score=0.373, total= 9.0min\n",
      "[CV] C=0.1, gamma=1, kernel=rbf ......................................\n"
     ]
    },
    {
     "name": "stderr",
     "output_type": "stream",
     "text": [
      "[Parallel(n_jobs=1)]: Done   2 out of   2 | elapsed: 18.0min remaining:    0.0s\n"
     ]
    },
    {
     "name": "stdout",
     "output_type": "stream",
     "text": [
      "[CV] .......... C=0.1, gamma=1, kernel=rbf, score=0.373, total= 9.0min\n",
      "[CV] C=0.1, gamma=1e-05, kernel=rbf ..................................\n",
      "[CV] ...... C=0.1, gamma=1e-05, kernel=rbf, score=0.373, total= 8.4min\n",
      "[CV] C=0.1, gamma=1e-05, kernel=rbf ..................................\n",
      "[CV] ...... C=0.1, gamma=1e-05, kernel=rbf, score=0.373, total= 8.7min\n",
      "[CV] C=0.1, gamma=1e-05, kernel=rbf ..................................\n",
      "[CV] ...... C=0.1, gamma=1e-05, kernel=rbf, score=0.373, total= 8.8min\n",
      "[CV] C=0.1, gamma=1e-10, kernel=rbf ..................................\n",
      "[CV] ...... C=0.1, gamma=1e-10, kernel=rbf, score=0.373, total= 7.6min\n",
      "[CV] C=0.1, gamma=1e-10, kernel=rbf ..................................\n",
      "[CV] ...... C=0.1, gamma=1e-10, kernel=rbf, score=0.373, total= 7.5min\n",
      "[CV] C=0.1, gamma=1e-10, kernel=rbf ..................................\n",
      "[CV] ...... C=0.1, gamma=1e-10, kernel=rbf, score=0.373, total= 8.2min\n",
      "[CV] C=10, gamma=1, kernel=rbf .......................................\n",
      "[CV] ........... C=10, gamma=1, kernel=rbf, score=0.373, total=21.2min\n",
      "[CV] C=10, gamma=1, kernel=rbf .......................................\n",
      "[CV] ........... C=10, gamma=1, kernel=rbf, score=0.373, total=20.1min\n",
      "[CV] C=10, gamma=1, kernel=rbf .......................................\n",
      "[CV] ........... C=10, gamma=1, kernel=rbf, score=0.373, total=19.1min\n",
      "[CV] C=10, gamma=1e-05, kernel=rbf ...................................\n",
      "[CV] ....... C=10, gamma=1e-05, kernel=rbf, score=0.373, total=15.0min\n",
      "[CV] C=10, gamma=1e-05, kernel=rbf ...................................\n",
      "[CV] ....... C=10, gamma=1e-05, kernel=rbf, score=0.373, total=15.0min\n",
      "[CV] C=10, gamma=1e-05, kernel=rbf ...................................\n",
      "[CV] ....... C=10, gamma=1e-05, kernel=rbf, score=0.373, total=14.9min\n",
      "[CV] C=10, gamma=1e-10, kernel=rbf ...................................\n",
      "[CV] ....... C=10, gamma=1e-10, kernel=rbf, score=0.375, total= 7.4min\n",
      "[CV] C=10, gamma=1e-10, kernel=rbf ...................................\n",
      "[CV] ....... C=10, gamma=1e-10, kernel=rbf, score=0.378, total= 7.4min\n",
      "[CV] C=10, gamma=1e-10, kernel=rbf ...................................\n",
      "[CV] ....... C=10, gamma=1e-10, kernel=rbf, score=0.376, total= 7.4min\n",
      "[CV] C=1000, gamma=1, kernel=rbf .....................................\n",
      "[CV] ......... C=1000, gamma=1, kernel=rbf, score=0.373, total=17.9min\n",
      "[CV] C=1000, gamma=1, kernel=rbf .....................................\n"
     ]
    }
   ],
   "source": [
    "aram_grid = {'C': [0.1,10,1000],  \n",
    "              'gamma': [1,1e-5,1e-10], \n",
    "              'kernel': ['rbf']}  \n",
    "grid = GridSearchCV(SVC(), param_grid, scoring='f1_weighted', cv=3, refit=True, verbose=3) \n",
    "# fitting the model for grid search \n",
    "grid.fit(np.r_[X_train,X_val], np.r_[y_train,y_val]) "
   ]
  },
  {
   "cell_type": "code",
   "execution_count": null,
   "metadata": {},
   "outputs": [],
   "source": []
  },
  {
   "cell_type": "code",
   "execution_count": null,
   "metadata": {},
   "outputs": [],
   "source": []
  },
  {
   "cell_type": "markdown",
   "metadata": {},
   "source": [
    "### Plot metrics recorded during training"
   ]
  },
  {
   "cell_type": "code",
   "execution_count": null,
   "metadata": {},
   "outputs": [],
   "source": [
    "try:\n",
    "    # To enable interactive mode you should install ipywidgets\n",
    "    # https://github.com/jupyter-widgets/ipywidgets\n",
    "    from ipywidgets import interact, SelectMultiple\n",
    "    INTERACTIVE = True\n",
    "except ImportError:\n",
    "    INTERACTIVE = False\n",
    "import matplotlib.pyplot as plt"
   ]
  },
  {
   "cell_type": "code",
   "execution_count": null,
   "metadata": {},
   "outputs": [],
   "source": [
    "def render_metric(metric_name):\n",
    "    ax = lgb.plot_metric(evals_result, metric=metric_name, figsize=(10, 5))\n",
    "    plt.show()"
   ]
  },
  {
   "cell_type": "code",
   "execution_count": null,
   "metadata": {},
   "outputs": [],
   "source": [
    "if INTERACTIVE:\n",
    "    # create widget to switch between metrics\n",
    "    interact(render_metric, metric_name=params['metric'])\n",
    "else:\n",
    "    render_metric(params['metric'][0])"
   ]
  },
  {
   "cell_type": "markdown",
   "metadata": {},
   "source": [
    "### Plot feature importances"
   ]
  },
  {
   "cell_type": "code",
   "execution_count": null,
   "metadata": {},
   "outputs": [],
   "source": [
    "def render_plot_importance(importance_type, max_features=10,\n",
    "                           ignore_zero=True, precision=3):\n",
    "    ax = lgb.plot_importance(gbm, importance_type=importance_type,\n",
    "                             max_num_features=max_features,\n",
    "                             ignore_zero=ignore_zero, figsize=(12, 8),\n",
    "                             precision=precision)\n",
    "    plt.show()"
   ]
  },
  {
   "cell_type": "code",
   "execution_count": null,
   "metadata": {},
   "outputs": [],
   "source": [
    "if INTERACTIVE:\n",
    "    # create widget for interactive feature importance plot\n",
    "    interact(render_plot_importance,\n",
    "             importance_type=['split', 'gain'],\n",
    "             max_features=(1, X_train.shape[-1]),\n",
    "             precision=(0, 10))\n",
    "else:\n",
    "    render_plot_importance(importance_type='split')"
   ]
  },
  {
   "cell_type": "markdown",
   "metadata": {},
   "source": [
    "### Plot split value histogram"
   ]
  },
  {
   "cell_type": "code",
   "execution_count": null,
   "metadata": {},
   "outputs": [],
   "source": [
    "def render_histogram(feature):\n",
    "    ax = lgb.plot_split_value_histogram(gbm, feature=feature,\n",
    "                                        bins='auto', figsize=(10, 5))\n",
    "    plt.show()"
   ]
  },
  {
   "cell_type": "code",
   "execution_count": null,
   "metadata": {},
   "outputs": [],
   "source": [
    "if INTERACTIVE:\n",
    "    # create widget for interactive split value histogram\n",
    "    interact(render_histogram,\n",
    "             feature=gbm.feature_name())\n",
    "else:\n",
    "    render_histogram(feature='f26')"
   ]
  },
  {
   "cell_type": "code",
   "execution_count": null,
   "metadata": {},
   "outputs": [],
   "source": []
  },
  {
   "cell_type": "code",
   "execution_count": null,
   "metadata": {},
   "outputs": [],
   "source": []
  }
 ],
 "metadata": {
  "kernelspec": {
   "display_name": "Python 3",
   "language": "python",
   "name": "python3"
  },
  "language_info": {
   "codemirror_mode": {
    "name": "ipython",
    "version": 3
   },
   "file_extension": ".py",
   "mimetype": "text/x-python",
   "name": "python",
   "nbconvert_exporter": "python",
   "pygments_lexer": "ipython3",
   "version": "3.6.10"
  }
 },
 "nbformat": 4,
 "nbformat_minor": 4
}
